{
 "cells": [
  {
   "cell_type": "markdown",
   "metadata": {},
   "source": [
    "### pythonでselfの理解を深める"
   ]
  },
  {
   "cell_type": "markdown",
   "metadata": {},
   "source": [
    "コンストラクタの引数  \n",
    "Pythonのコードのコンストラクタでは第一引数に「self」が指定してあります。  \n",
    "これはJavaで言う「this」です。(selfはしかるべきエディタではハイライトされます)  \n",
    "Pythonでは、Javaで言う「this」を明示的に「self」と指定してあげます。  \n",
    "「self.foo = bar」はインスタンス変数fooを宣言と同時に初期化したことになります。  \n",
    "「def printFoo(self):」も同様にインスタンスメソッド。  \n",
    "\n",
    "Python15分講座 #3 （クラス） - t_nagataの日記"
   ]
  },
  {
   "cell_type": "code",
   "execution_count": 1,
   "metadata": {},
   "outputs": [
    {
     "name": "stdout",
     "output_type": "stream",
     "text": [
      "10\n",
      "hoge\n"
     ]
    }
   ],
   "source": [
    "class Hoge(object):\n",
    "    pass\n",
    "hoge = Hoge()\n",
    "hoge.a = 10\n",
    "hoge.b = 'hoge'\n",
    "print(hoge.a)\n",
    "print(hoge.b)"
   ]
  },
  {
   "cell_type": "markdown",
   "metadata": {},
   "source": [
    "これでhogeに a と b を持たす事が出来る。\n",
    "\n",
    "でも，インスタンス生成する時になんども a と b に代入するのもメンドいから関数として切り出してみる"
   ]
  },
  {
   "cell_type": "code",
   "execution_count": 2,
   "metadata": {},
   "outputs": [
    {
     "name": "stdout",
     "output_type": "stream",
     "text": [
      "10\n",
      "hoge\n"
     ]
    }
   ],
   "source": [
    "def initialize(obj, a, b):\n",
    "    obj.a = a\n",
    "    obj.b = b\n",
    "    \n",
    "hoge = Hoge()\n",
    "initialize(hoge, 10, 'hoge') \n",
    "print (hoge.a)\n",
    "print (hoge.b)"
   ]
  },
  {
   "cell_type": "markdown",
   "metadata": {},
   "source": [
    "やってる事は変わらないけど，複数 Hoge のインスタンス作る時に便利になった．  \n",
    "でも，これは Hoge を初期化する関数なんだから Hoge クラスが持ってた方が良い  \n",
    "ならば，Hoge クラスにこの関数を持たしてみる"
   ]
  },
  {
   "cell_type": "code",
   "execution_count": 3,
   "metadata": {},
   "outputs": [
    {
     "name": "stdout",
     "output_type": "stream",
     "text": [
      "10\n",
      "hoge\n"
     ]
    }
   ],
   "source": [
    "class Hoge(object):\n",
    "    def initialize(obj,a,b):\n",
    "        obj.a = a\n",
    "        obj.b = b\n",
    "        \n",
    "hoge = Hoge()\n",
    "Hoge.initialize(hoge,10,'hoge')\n",
    "print (hoge.a)\n",
    "print (hoge.b)"
   ]
  },
  {
   "cell_type": "markdown",
   "metadata": {},
   "source": [
    "これで Hoge を初期化する処理を Hoge クラス自体に持たせる事が出来た．  \n",
    "さて，ここで思い出して欲しいんだけど，Python ではインスタンスメソッド(=クラスの中に定義された関数(メソッド)の呼び出しは第一引数に自分自身を渡す．　　\n",
    "\n",
    "つまり上記のコードはこうも書ける．"
   ]
  },
  {
   "cell_type": "code",
   "execution_count": 4,
   "metadata": {},
   "outputs": [
    {
     "name": "stdout",
     "output_type": "stream",
     "text": [
      "10\n",
      "hoge\n"
     ]
    }
   ],
   "source": [
    "hoge.initialize(10,'hoge')\n",
    "print (hoge.a)\n",
    "print (hoge.b)"
   ]
  },
  {
   "cell_type": "markdown",
   "metadata": {},
   "source": [
    "さて，ここまで来たら後は簡単．  \n",
    "Python では コンストラクタは \\__init\\__って記載する．  \n",
    "そしてインスタンスメソッドと同じように第一引数に自分自身が渡ってくる．　　\n",
    "\n",
    "じゃあ，上記をコンストラクタに変更してみる．　　"
   ]
  },
  {
   "cell_type": "markdown",
   "metadata": {},
   "source": [
    "コンストラクタとは、クラスのインスタンス生成時に実行されるメソッドで、主にそのクラスのメンバ変数を初期化するときに使用します。 コンストラクタはインスタンス生成時に呼び出される特別なメソッドで、通常のメソッド同様に引数を指定することも可能です。"
   ]
  },
  {
   "cell_type": "code",
   "execution_count": 5,
   "metadata": {},
   "outputs": [
    {
     "name": "stdout",
     "output_type": "stream",
     "text": [
      "5\n",
      "hoge2\n"
     ]
    }
   ],
   "source": [
    "class Hoge(object):\n",
    "    def __init__(obj,a,b):\n",
    "        obj.a = a\n",
    "        obj.b = b\n",
    "\n",
    "hoge = Hoge(5,'hoge2')\n",
    "print (hoge.a)\n",
    "print (hoge.b)"
   ]
  },
  {
   "cell_type": "markdown",
   "metadata": {},
   "source": [
    "うん，コンストラクタ出来た．  \n",
    "最後に習慣に従って第一引数の仮引数名を self にしてみる"
   ]
  },
  {
   "cell_type": "code",
   "execution_count": 6,
   "metadata": {},
   "outputs": [
    {
     "name": "stdout",
     "output_type": "stream",
     "text": [
      "10\n",
      "hage\n"
     ]
    }
   ],
   "source": [
    "class Hoge(object):\n",
    "    def __init__(self,a,b):\n",
    "        self.a = a\n",
    "        self.b = b\n",
    "hoge = Hoge(10,\"hage\")\n",
    "print(hoge.a)\n",
    "print(hoge.b)"
   ]
  },
  {
   "cell_type": "code",
   "execution_count": null,
   "metadata": {},
   "outputs": [],
   "source": []
  },
  {
   "cell_type": "code",
   "execution_count": 12,
   "metadata": {},
   "outputs": [],
   "source": [
    "# クラスメソッドの使い方\n",
    "class Test:\n",
    "    def __init__(self,a,b):\n",
    "        self.a = a\n",
    "        self.b = b\n",
    "        \n",
    "    def a_plus_b(self):\n",
    "        return self.a + self.b\n",
    "    def c_times_c(self):\n",
    "        return self.a_plus_b()**2\n",
    "    def a_plus_b2(self,a,b):\n",
    "        return a+b"
   ]
  },
  {
   "cell_type": "code",
   "execution_count": 13,
   "metadata": {},
   "outputs": [
    {
     "data": {
      "text/plain": [
       "7"
      ]
     },
     "execution_count": 13,
     "metadata": {},
     "output_type": "execute_result"
    }
   ],
   "source": [
    "test = Test(3,4)\n",
    "test.a_plus_b()"
   ]
  },
  {
   "cell_type": "code",
   "execution_count": 14,
   "metadata": {},
   "outputs": [
    {
     "data": {
      "text/plain": [
       "49"
      ]
     },
     "execution_count": 14,
     "metadata": {},
     "output_type": "execute_result"
    }
   ],
   "source": [
    "test.c_times_c()"
   ]
  },
  {
   "cell_type": "code",
   "execution_count": 15,
   "metadata": {},
   "outputs": [
    {
     "data": {
      "text/plain": [
       "5"
      ]
     },
     "execution_count": 15,
     "metadata": {},
     "output_type": "execute_result"
    }
   ],
   "source": [
    "test.a_plus_b2(2,3)"
   ]
  }
 ],
 "metadata": {
  "kernelspec": {
   "display_name": "Python 3",
   "language": "python",
   "name": "python3"
  },
  "language_info": {
   "codemirror_mode": {
    "name": "ipython",
    "version": 3
   },
   "file_extension": ".py",
   "mimetype": "text/x-python",
   "name": "python",
   "nbconvert_exporter": "python",
   "pygments_lexer": "ipython3",
   "version": "3.6.5"
  }
 },
 "nbformat": 4,
 "nbformat_minor": 2
}
