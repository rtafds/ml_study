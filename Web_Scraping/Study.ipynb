{
 "cells": [
  {
   "cell_type": "markdown",
   "metadata": {},
   "source": [
    "https://shimi-dai.com/python-selenium-web-scraping-at-login-page/"
   ]
  },
  {
   "cell_type": "markdown",
   "metadata": {},
   "source": [
    "https://qiita.com/mochio/items/dc9935ee607895420186"
   ]
  },
  {
   "cell_type": "code",
   "execution_count": null,
   "metadata": {},
   "outputs": [],
   "source": [
    "from time import sleep\n",
    "from bs4 import BeautifulSoup\n",
    "from selenium import webdriver\n",
    "from selenium.webdriver.chrome.options import Options\n",
    "from selenium.webdriver.common.keys import Keys\n",
    " \n",
    "if __name__ == '__main__':\n",
    " \n",
    "    # URL関連\n",
    "    url = \"https://login.yahoo.co.jp/config/login\"\n",
    "    login = \"ログインIDをここに入力\"\n",
    "    password = \"パスワードをここに入力\"\n",
    " \n",
    "    # ヘッドレスモードの設定。\n",
    "    # True => ブラウザを描写しない。\n",
    "    # False => ブラウザを描写する。\n",
    "    options = Options()\n",
    "    options.add_argument('--headless')\n",
    " \n",
    "    # Chromeを起動\n",
    "    driver = webdriver.Chrome(executable_path=\"C:\\webdriver\\chromedriver.exe\", chrome_options=options)\n",
    " \n",
    "    # ログインページを開く\n",
    "    driver.get(url)\n",
    " \n",
    "    # ログオン処理\n",
    "    # ユーザー名入力\n",
    "    driver.find_element_by_id(\"username\").send_keys(login)\n",
    "    driver.find_element_by_id('btnNext').send_keys(Keys.ENTER)\n",
    " \n",
    "    # ブラウザの描写が完了させるためにsleep\n",
    "    sleep(10)\n",
    " \n",
    "    # パスワード入力\n",
    "    driver.find_element_by_id(\"passwd\").send_keys(password)\n",
    "    driver.find_element_by_id(\"btnSubmit\").send_keys(Keys.ENTER)\n",
    " \n",
    "    # soupオブジェクトを作成\n",
    "    soup = BeautifulSoup(driver.page_source, \"lxml\")\n",
    " \n",
    "    # ログイン後のトップページのソースを表示\n",
    "    print(soup)\n",
    " \n",
    "    # ドライバーをクローズ\n",
    "    driver.close()\n",
    "    driver.quit()"
   ]
  }
 ],
 "metadata": {
  "kernelspec": {
   "display_name": "Python 3",
   "language": "python",
   "name": "python3"
  },
  "language_info": {
   "codemirror_mode": {
    "name": "ipython",
    "version": 3
   },
   "file_extension": ".py",
   "mimetype": "text/x-python",
   "name": "python",
   "nbconvert_exporter": "python",
   "pygments_lexer": "ipython3",
   "version": "3.6.5"
  }
 },
 "nbformat": 4,
 "nbformat_minor": 2
}
