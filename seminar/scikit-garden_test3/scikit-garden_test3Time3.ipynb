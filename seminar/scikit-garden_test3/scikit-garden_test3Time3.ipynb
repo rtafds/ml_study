{
 "cells": [
  {
   "cell_type": "markdown",
   "metadata": {},
   "source": [
    "# テストの続き"
   ]
  },
  {
   "cell_type": "code",
   "execution_count": 78,
   "metadata": {},
   "outputs": [
    {
     "name": "stdout",
     "output_type": "stream",
     "text": [
      "----------------------------------------------------------------------------------------\n",
      "Raw shape: (32561,17)\n",
      "X shape: (32561,15)\n",
      "y shape: (32561,1)\n",
      "----------------------------------------------------------------------------------------\n",
      "Age                                  float64\n",
      "Fnlwgt                               float64\n",
      "Education_num                        float64\n",
      "Capital_Gain                         float64\n",
      "Capital_Loss                         float64\n",
      "Hours_Per_Week                       float64\n",
      "Workclass_Self-emp-not-inc           float64\n",
      "Marital_Status_Married-civ-spouse    float64\n",
      "Occupation_Exec-managerial           float64\n",
      "Occupation_Farming-fishing           float64\n",
      "Occupation_Other-service             float64\n",
      "Occupation_Prof-specialty            float64\n",
      "Occupation_Tech-support              float64\n",
      "Relationship_Wife                    float64\n",
      "Sex_Male                             float64\n",
      "dtype: object\n",
      "----------------------------------------------------------------------------------------\n",
      "Check the null count of the target variable: 0\n",
      "----------------------------------------------------------------------------------------\n"
     ]
    },
    {
     "data": {
      "text/html": [
       "<div>\n",
       "<style scoped>\n",
       "    .dataframe tbody tr th:only-of-type {\n",
       "        vertical-align: middle;\n",
       "    }\n",
       "\n",
       "    .dataframe tbody tr th {\n",
       "        vertical-align: top;\n",
       "    }\n",
       "\n",
       "    .dataframe thead th {\n",
       "        text-align: right;\n",
       "    }\n",
       "</style>\n",
       "<table border=\"1\" class=\"dataframe\">\n",
       "  <thead>\n",
       "    <tr style=\"text-align: right;\">\n",
       "      <th></th>\n",
       "      <th>Age</th>\n",
       "      <th>Fnlwgt</th>\n",
       "      <th>Education_num</th>\n",
       "      <th>Capital_Gain</th>\n",
       "      <th>Capital_Loss</th>\n",
       "      <th>Hours_Per_Week</th>\n",
       "      <th>Workclass_Self-emp-not-inc</th>\n",
       "      <th>Marital_Status_Married-civ-spouse</th>\n",
       "      <th>Occupation_Exec-managerial</th>\n",
       "      <th>Occupation_Farming-fishing</th>\n",
       "      <th>Occupation_Other-service</th>\n",
       "      <th>Occupation_Prof-specialty</th>\n",
       "      <th>Occupation_Tech-support</th>\n",
       "      <th>Relationship_Wife</th>\n",
       "      <th>Sex_Male</th>\n",
       "      <th>Income</th>\n",
       "    </tr>\n",
       "  </thead>\n",
       "  <tbody>\n",
       "    <tr>\n",
       "      <th>0</th>\n",
       "      <td>39.0</td>\n",
       "      <td>77516.0</td>\n",
       "      <td>13.0</td>\n",
       "      <td>2174.0</td>\n",
       "      <td>0.0</td>\n",
       "      <td>40.0</td>\n",
       "      <td>0.0</td>\n",
       "      <td>0.0</td>\n",
       "      <td>0.0</td>\n",
       "      <td>0.0</td>\n",
       "      <td>0.0</td>\n",
       "      <td>0.0</td>\n",
       "      <td>0.0</td>\n",
       "      <td>0.0</td>\n",
       "      <td>1.0</td>\n",
       "      <td>0</td>\n",
       "    </tr>\n",
       "    <tr>\n",
       "      <th>1</th>\n",
       "      <td>50.0</td>\n",
       "      <td>83311.0</td>\n",
       "      <td>13.0</td>\n",
       "      <td>0.0</td>\n",
       "      <td>0.0</td>\n",
       "      <td>13.0</td>\n",
       "      <td>1.0</td>\n",
       "      <td>1.0</td>\n",
       "      <td>1.0</td>\n",
       "      <td>0.0</td>\n",
       "      <td>0.0</td>\n",
       "      <td>0.0</td>\n",
       "      <td>0.0</td>\n",
       "      <td>0.0</td>\n",
       "      <td>1.0</td>\n",
       "      <td>0</td>\n",
       "    </tr>\n",
       "    <tr>\n",
       "      <th>2</th>\n",
       "      <td>38.0</td>\n",
       "      <td>215646.0</td>\n",
       "      <td>9.0</td>\n",
       "      <td>0.0</td>\n",
       "      <td>0.0</td>\n",
       "      <td>40.0</td>\n",
       "      <td>0.0</td>\n",
       "      <td>0.0</td>\n",
       "      <td>0.0</td>\n",
       "      <td>0.0</td>\n",
       "      <td>0.0</td>\n",
       "      <td>0.0</td>\n",
       "      <td>0.0</td>\n",
       "      <td>0.0</td>\n",
       "      <td>1.0</td>\n",
       "      <td>0</td>\n",
       "    </tr>\n",
       "    <tr>\n",
       "      <th>3</th>\n",
       "      <td>53.0</td>\n",
       "      <td>234721.0</td>\n",
       "      <td>7.0</td>\n",
       "      <td>0.0</td>\n",
       "      <td>0.0</td>\n",
       "      <td>40.0</td>\n",
       "      <td>0.0</td>\n",
       "      <td>1.0</td>\n",
       "      <td>0.0</td>\n",
       "      <td>0.0</td>\n",
       "      <td>0.0</td>\n",
       "      <td>0.0</td>\n",
       "      <td>0.0</td>\n",
       "      <td>0.0</td>\n",
       "      <td>1.0</td>\n",
       "      <td>0</td>\n",
       "    </tr>\n",
       "    <tr>\n",
       "      <th>4</th>\n",
       "      <td>28.0</td>\n",
       "      <td>338409.0</td>\n",
       "      <td>13.0</td>\n",
       "      <td>0.0</td>\n",
       "      <td>0.0</td>\n",
       "      <td>40.0</td>\n",
       "      <td>0.0</td>\n",
       "      <td>1.0</td>\n",
       "      <td>0.0</td>\n",
       "      <td>0.0</td>\n",
       "      <td>0.0</td>\n",
       "      <td>1.0</td>\n",
       "      <td>0.0</td>\n",
       "      <td>1.0</td>\n",
       "      <td>0.0</td>\n",
       "      <td>0</td>\n",
       "    </tr>\n",
       "  </tbody>\n",
       "</table>\n",
       "</div>"
      ],
      "text/plain": [
       "    Age    Fnlwgt  Education_num  Capital_Gain  Capital_Loss  Hours_Per_Week  \\\n",
       "0  39.0   77516.0           13.0        2174.0           0.0            40.0   \n",
       "1  50.0   83311.0           13.0           0.0           0.0            13.0   \n",
       "2  38.0  215646.0            9.0           0.0           0.0            40.0   \n",
       "3  53.0  234721.0            7.0           0.0           0.0            40.0   \n",
       "4  28.0  338409.0           13.0           0.0           0.0            40.0   \n",
       "\n",
       "   Workclass_Self-emp-not-inc  Marital_Status_Married-civ-spouse  \\\n",
       "0                         0.0                                0.0   \n",
       "1                         1.0                                1.0   \n",
       "2                         0.0                                0.0   \n",
       "3                         0.0                                1.0   \n",
       "4                         0.0                                1.0   \n",
       "\n",
       "   Occupation_Exec-managerial  Occupation_Farming-fishing  \\\n",
       "0                         0.0                         0.0   \n",
       "1                         1.0                         0.0   \n",
       "2                         0.0                         0.0   \n",
       "3                         0.0                         0.0   \n",
       "4                         0.0                         0.0   \n",
       "\n",
       "   Occupation_Other-service  Occupation_Prof-specialty  \\\n",
       "0                       0.0                        0.0   \n",
       "1                       0.0                        0.0   \n",
       "2                       0.0                        0.0   \n",
       "3                       0.0                        0.0   \n",
       "4                       0.0                        1.0   \n",
       "\n",
       "   Occupation_Tech-support  Relationship_Wife  Sex_Male  Income  \n",
       "0                      0.0                0.0       1.0       0  \n",
       "1                      0.0                0.0       1.0       0  \n",
       "2                      0.0                0.0       1.0       0  \n",
       "3                      0.0                0.0       1.0       0  \n",
       "4                      0.0                1.0       0.0       0  "
      ]
     },
     "execution_count": 78,
     "metadata": {},
     "output_type": "execute_result"
    }
   ],
   "source": [
    "import pandas as pd\n",
    "import numpy as np\n",
    "\n",
    "#前処理済みのデータを持ってくる\n",
    "df = pd.read_csv('./data/adult/adult_treated.csv', header=0,)\n",
    "\n",
    "X = df.iloc[:,:-1]\n",
    "#pd.to_csvで行数が１列目に入るので削除\n",
    "X = X.drop('Unnamed: 0', axis=1)\n",
    "y = df.iloc[:,[-1]]\n",
    "\n",
    "#check the shape\n",
    "print('----------------------------------------------------------------------------------------')\n",
    "print('Raw shape: (%i,%i)' %df.shape)\n",
    "print('X shape: (%i,%i)' %X.shape)\n",
    "print('y shape: (%i,%i)' %y.shape)\n",
    "print('----------------------------------------------------------------------------------------')\n",
    "print(X.dtypes)\n",
    "print('----------------------------------------------------------------------------------------')\n",
    "print('Check the null count of the target variable: %i' % y.isnull().sum())\n",
    "print('----------------------------------------------------------------------------------------')\n",
    "X.join(y).head()"
   ]
  },
  {
   "cell_type": "code",
   "execution_count": 79,
   "metadata": {
    "scrolled": true
   },
   "outputs": [
    {
     "name": "stdout",
     "output_type": "stream",
     "text": [
      "----------------------------------------------------------------------------------------\n",
      "Raw shape: (16281,17)\n",
      "X_s shape: (16281,15)\n",
      "y_s shape: (16281,1)\n",
      "Age                                  float64\n",
      "Fnlwgt                               float64\n",
      "Education_num                        float64\n",
      "Capital_Gain                         float64\n",
      "Capital_Loss                         float64\n",
      "Hours_Per_Week                       float64\n",
      "Workclass_Self-emp-not-inc           float64\n",
      "Marital_Status_Married-civ-spouse    float64\n",
      "Occupation_Exec-managerial           float64\n",
      "Occupation_Farming-fishing           float64\n",
      "Occupation_Other-service             float64\n",
      "Occupation_Prof-specialty            float64\n",
      "Occupation_Tech-support              float64\n",
      "Relationship_Wife                    float64\n",
      "Sex_Male                             float64\n",
      "dtype: object\n"
     ]
    }
   ],
   "source": [
    "import pandas as pd\n",
    "\n",
    "# import sample data\n",
    "# Loan screening data for classification \n",
    "df_s = pd.read_csv('./data/adult/adult_test_treated.csv', header=0,)\n",
    "X_s = df_s.iloc[:,:-1]\n",
    "X_s = X_s.drop('Unnamed: 0', axis=1)\n",
    "y_s = df_s.iloc[:,[-1]]\n",
    "\n",
    "print('----------------------------------------------------------------------------------------')\n",
    "print('Raw shape: (%i,%i)' %df_s.shape)\n",
    "print('X_s shape: (%i,%i)' %X_s.shape)\n",
    "print('y_s shape: (%i,%i)' %y_s.shape)\n",
    "print(X_s.dtypes)"
   ]
  },
  {
   "cell_type": "code",
   "execution_count": 80,
   "metadata": {},
   "outputs": [],
   "source": [
    "# import basice apis\n",
    "import numpy as np\n",
    "import pandas as pd\n",
    "from sklearn.preprocessing import StandardScaler\n",
    "from sklearn.neighbors import KNeighborsClassifier\n",
    "from sklearn.linear_model import LogisticRegression\n",
    "from sklearn.ensemble import RandomForestClassifier, GradientBoostingClassifier\n",
    "from sklearn.neural_network import MLPClassifier\n",
    "from sklearn.svm import LinearSVC\n",
    "from sklearn.pipeline import Pipeline\n",
    "from sklearn.model_selection import train_test_split\n",
    "from sklearn.metrics import accuracy_score, f1_score, precision_score, recall_score, roc_auc_score,r2_score\n",
    "\n",
    "from skgarden.mondrian.ensemble import MondrianForestClassifier\n",
    "\n",
    "\n",
    "# data Standardization\n",
    "scaler = StandardScaler()\n",
    "scaler.fit(X)\n",
    "X_scl = scaler.transform(X)\n",
    "X_s_scl = scaler.transform(X_s)\n",
    "\n",
    "#set learning machine\n",
    "rfc = RandomForestClassifier(random_state=42)\n",
    "gbc = GradientBoostingClassifier(random_state=42)\n",
    "mfc = MondrianForestClassifier()\n",
    "\n"
   ]
  },
  {
   "cell_type": "markdown",
   "metadata": {},
   "source": [
    "次はtotalの計算時間を計算\n",
    "ここでは、データが1000個ずつきて、順次学習していったと仮定する。"
   ]
  },
  {
   "cell_type": "code",
   "execution_count": 81,
   "metadata": {},
   "outputs": [],
   "source": [
    "#各モデルのデータ数に対する計算速度を計測\n",
    "import time\n",
    "def calc_function(f, args):\n",
    "    start = time.time()\n",
    "    result = f(*args)\n",
    "    end = time.time()\n",
    "    return end-start\n",
    "\n",
    "#全データ数をNを格納\n",
    "\n",
    "\n",
    "def calc_time_plus_1000(X_use, y_use, larener):\n",
    "    i = 0\n",
    "    i_list = []\n",
    "    time_list = []\n",
    "    N = X_use.shape[0]\n",
    "    calc_time_total = 0\n",
    "    while i < N:\n",
    "        i += 1000\n",
    "        X_data = X_use[:i, :]    #\n",
    "        y_data = y_use[:i]\n",
    "        calc_time = calc_function(larener.fit,(X_data,y_data.as_matrix().ravel()) )\n",
    "        i_list.append(i)\n",
    "        calc_time_total += calc_time \n",
    "        time_list.append(calc_time_total)\n",
    "    i_array = np.array(i_list)\n",
    "    time_array = np.array(time_list)\n",
    "    return i_array, time_array\n"
   ]
  },
  {
   "cell_type": "code",
   "execution_count": 42,
   "metadata": {},
   "outputs": [
    {
     "name": "stdout",
     "output_type": "stream",
     "text": [
      "end\n"
     ]
    }
   ],
   "source": [
    "result_rfc = calc_time_plus_1000(X_scl, y, rfc)\n",
    "print('end')"
   ]
  },
  {
   "cell_type": "code",
   "execution_count": 11,
   "metadata": {},
   "outputs": [
    {
     "name": "stdout",
     "output_type": "stream",
     "text": [
      "end\n"
     ]
    }
   ],
   "source": [
    "result_gbc = calc_time_plus_1000(X_scl, y, gbc)\n",
    "print('end')"
   ]
  },
  {
   "cell_type": "code",
   "execution_count": 12,
   "metadata": {},
   "outputs": [
    {
     "name": "stdout",
     "output_type": "stream",
     "text": [
      "end\n"
     ]
    }
   ],
   "source": [
    "result_mfc = calc_time_plus_1000(X_scl, y, mfc)\n",
    "print('end')"
   ]
  },
  {
   "cell_type": "code",
   "execution_count": 82,
   "metadata": {},
   "outputs": [
    {
     "name": "stdout",
     "output_type": "stream",
     "text": [
      "end\n"
     ]
    }
   ],
   "source": [
    "#partial_fit でも同じ処理をする。\n",
    "\n",
    "i = 0\n",
    "i_list = []\n",
    "time_list = []\n",
    "N = X_scl.shape[0]\n",
    "calc_time_total = 0\n",
    "n = 0\n",
    "while i < N:\n",
    "    i += 1000\n",
    "    X_data = X_scl[i-1000:i, :]    #次のデータで学習\n",
    "    y_data = y[i-1000:i]\n",
    "    calc_time = calc_function(mfc.partial_fit,(X_data,y_data.as_matrix().ravel()) )\n",
    "    calc_time_total += calc_time\n",
    "    \n",
    "    n += X_data.shape[0]\n",
    "    i_list.append(n)\n",
    "    time_list.append(calc_time_total)\n",
    "i_array = np.array(i_list)\n",
    "time_array = np.array(time_list)\n",
    "\n",
    "result_mfc_p = (i_array, time_array)\n",
    "print('end')"
   ]
  },
  {
   "cell_type": "code",
   "execution_count": 60,
   "metadata": {},
   "outputs": [
    {
     "data": {
      "image/png": "[encoded data removed]",
      "text/plain": [
       "<matplotlib.figure.Figure at 0x1a1beb3198>"
      ]
     },
     "metadata": {},
     "output_type": "display_data"
    }
   ],
   "source": [
    "#データをプロットしてみる\n",
    "%matplotlib inline\n",
    "import matplotlib.pyplot as plt\n",
    "\n",
    "def result_plot(result, name):\n",
    "    x,y = result\n",
    "    plt.plot(x, y, label=name)\n",
    "result_plot(result_rfc, 'RandomForest')\n",
    "result_plot(result_gbc, 'GradientBoosting')\n",
    "result_plot(result_mfc, 'Mondrianfit')\n",
    "result_plot(result_mfc_p, 'Mondrianpartial_fit')\n",
    "\n",
    "plt.title('total_calculationtime if data plus 1000 one after another')\n",
    "plt.xlabel('number of data(number)')\n",
    "plt.ylabel('total_calculationtime(second)')\n",
    "#凡例の表示\n",
    "plt.legend()\n",
    "# プロット表示(設定の反映)\n",
    "plt.savefig('total_calculationtime if data plus 1000 one after another', dpi=500)\n",
    "plt.show()\n"
   ]
  },
  {
   "cell_type": "code",
   "execution_count": 61,
   "metadata": {},
   "outputs": [
    {
     "data": {
      "image/png": "[encoded data removed]",
      "text/plain": [
       "<matplotlib.figure.Figure at 0x1a18d3ca20>"
      ]
     },
     "metadata": {},
     "output_type": "display_data"
    }
   ],
   "source": [
    "  #データをプロットしてみる\n",
    "%matplotlib inline\n",
    "import matplotlib.pyplot as plt\n",
    "\n",
    "def result_plot(result, name):\n",
    "    x,y = result\n",
    "    plt.plot(x, y, label=name)\n",
    "\n",
    "result_plot(result_mfc_p, 'Mondrianpartial_fit')\n",
    "\n",
    "plt.title('total_calculationtime if data plus 1000 one after another')\n",
    "plt.xlabel('number of data(number)')\n",
    "plt.ylabel('total_calculationtime(second)')\n",
    "#凡例の表示\n",
    "plt.legend()\n",
    "# プロット表示(設定の反映)\n",
    "#plt.savefig('calculationtime of each laerner', dpi=500)\n",
    "plt.show()"
   ]
  },
  {
   "cell_type": "markdown",
   "metadata": {},
   "source": [
    "次はデータが100個ずつ来たと仮定する。"
   ]
  },
  {
   "cell_type": "code",
   "execution_count": 83,
   "metadata": {},
   "outputs": [],
   "source": [
    "#各モデルのデータ数に対する計算速度を計測\n",
    "import time\n",
    "def calc_function(f, args):\n",
    "    start = time.time()\n",
    "    result = f(*args)\n",
    "    end = time.time()\n",
    "    return end-start\n",
    "\n",
    "#全データ数をNを格納\n",
    "\n",
    "\n",
    "def calc_time_plus_100(X_use, y_use, larener):\n",
    "    i = 0\n",
    "    i_list = []\n",
    "    time_list = []\n",
    "    N = X_use.shape[0]\n",
    "    calc_time_total = 0\n",
    "    while i < N:\n",
    "        i += 100\n",
    "        X_data = X_use[:i, :]    #\n",
    "        y_data = y_use[:i]\n",
    "        calc_time = calc_function(larener.fit,(X_data,y_data.as_matrix().ravel()) )\n",
    "        i_list.append(i)\n",
    "        calc_time_total += calc_time \n",
    "        time_list.append(calc_time_total)\n",
    "    i_array = np.array(i_list)\n",
    "    time_array = np.array(time_list)\n",
    "    return i_array, time_array\n"
   ]
  },
  {
   "cell_type": "code",
   "execution_count": 26,
   "metadata": {},
   "outputs": [
    {
     "name": "stdout",
     "output_type": "stream",
     "text": [
      "end\n"
     ]
    }
   ],
   "source": [
    "result_rfc_100 = calc_time_plus_100(X_scl, y, rfc)\n",
    "print('end')"
   ]
  },
  {
   "cell_type": "code",
   "execution_count": 27,
   "metadata": {},
   "outputs": [
    {
     "name": "stdout",
     "output_type": "stream",
     "text": [
      "end\n"
     ]
    }
   ],
   "source": [
    "result_gbc_100 = calc_time_plus_100(X_scl, y, gbc)\n",
    "print('end')"
   ]
  },
  {
   "cell_type": "code",
   "execution_count": 33,
   "metadata": {},
   "outputs": [
    {
     "name": "stdout",
     "output_type": "stream",
     "text": [
      "end\n"
     ]
    }
   ],
   "source": [
    "result_mfc_100 = calc_time_plus_100(X_scl, y, mfc)\n",
    "print('end')"
   ]
  },
  {
   "cell_type": "code",
   "execution_count": 85,
   "metadata": {},
   "outputs": [
    {
     "name": "stdout",
     "output_type": "stream",
     "text": [
      "end\n"
     ]
    }
   ],
   "source": [
    "#partial_fit でも同じ処理をする。\n",
    "\n",
    "i = 0\n",
    "i_list = []\n",
    "time_list = []\n",
    "N = X_scl.shape[0]\n",
    "calc_time_total = 0\n",
    "mfc = MondrianForestClassifier()\n",
    "n = 0\n",
    "while i < N:\n",
    "    i += 100\n",
    "    X_data = X_scl[i-100:i, :]    #次のデータで学習\n",
    "    y_data = y[i-100:i]\n",
    "    calc_time = calc_function(mfc.partial_fit,(X_data,y_data.as_matrix().ravel()) )\n",
    "    calc_time_total += calc_time\n",
    "    \n",
    "    n += X_data.shape[0]\n",
    "    i_list.append(n)\n",
    "    time_list.append(calc_time_total)\n",
    "i_array = np.array(i_list)\n",
    "time_array = np.array(time_list)\n",
    "\n",
    "result_mfc_p_100 = (i_array, time_array)\n",
    "print('end')"
   ]
  },
  {
   "cell_type": "code",
   "execution_count": 66,
   "metadata": {},
   "outputs": [
    {
     "data": {
      "image/png": "[encoded data removed]",
      "text/plain": [
       "<matplotlib.figure.Figure at 0x1a19882320>"
      ]
     },
     "metadata": {},
     "output_type": "display_data"
    }
   ],
   "source": [
    "#データをプロットしてみる\n",
    "%matplotlib inline\n",
    "import matplotlib.pyplot as plt\n",
    "\n",
    "def result_plot(result, name):\n",
    "    x,y = result\n",
    "    plt.plot(x, y, label=name)\n",
    "result_plot(result_rfc_100, 'RandomForest')\n",
    "result_plot(result_gbc_100, 'GradientBoosting')\n",
    "result_plot(result_mfc_100, 'Mondrianfit')\n",
    "result_plot(result_mfc_p_100, 'Mondrianpartial_fit')\n",
    "\n",
    "plt.title('total_calculationtime if data plus 100 one after another')\n",
    "plt.xlabel('number of data(number)')\n",
    "plt.ylabel('total_calculationtime(second)')\n",
    "#凡例の表示\n",
    "plt.legend()\n",
    "# プロット表示(設定の反映)\n",
    "plt.savefig('total_calculationtime if data plus 100 one after another', dpi=500)\n",
    "plt.show()\n"
   ]
  },
  {
   "cell_type": "code",
   "execution_count": 67,
   "metadata": {},
   "outputs": [
    {
     "data": {
      "image/png": "[encoded data removed]",
      "text/plain": [
       "<matplotlib.figure.Figure at 0x1a1a67d5c0>"
      ]
     },
     "metadata": {},
     "output_type": "display_data"
    }
   ],
   "source": [
    "#データをプロットしてみる\n",
    "%matplotlib inline\n",
    "import matplotlib.pyplot as plt\n",
    "\n",
    "def result_plot(result, name):\n",
    "    x,y = result\n",
    "    plt.plot(x, y, label=name)\n",
    "\n",
    "result_plot(result_mfc_p, 'Mondrianpartial_fit_1000')\n",
    "result_plot(result_mfc_p_100,'Mondrianpartial_fit_100')\n",
    "plt.title('total_calculationtime')\n",
    "plt.xlabel('number of data(number)')\n",
    "plt.ylabel('calculationtime(second)')\n",
    "#凡例の表示\n",
    "plt.legend()\n",
    "# プロット表示(設定の反映)\n",
    "#plt.savefig('total_calculationtime of Mondrian', dpi=500)\n",
    "plt.show()"
   ]
  },
  {
   "cell_type": "markdown",
   "metadata": {},
   "source": [
    "次に、1個ずつ足していった場合、10個、100個といった場合のtotaltimeを比較する。"
   ]
  },
  {
   "cell_type": "code",
   "execution_count": 95,
   "metadata": {},
   "outputs": [
    {
     "name": "stdout",
     "output_type": "stream",
     "text": [
      "end\n"
     ]
    }
   ],
   "source": [
    "#partial_fit でも同じ処理をする。\n",
    "\n",
    "i = 0\n",
    "i_list = []\n",
    "time_list = []\n",
    "N = X_scl.shape[0]\n",
    "calc_time_total = 0\n",
    "mfc = MondrianForestClassifier()\n",
    "n = 0\n",
    "while i < N:\n",
    "    i += 8\n",
    "    X_data = X_scl[i-8:i, :]    #次のデータで学習\n",
    "    y_data = y[i-8:i]\n",
    "    calc_time = calc_function(mfc.partial_fit,(X_data,y_data.as_matrix().ravel()) )\n",
    "    calc_time_total += calc_time\n",
    "    \n",
    "    n += X_data.shape[0]\n",
    "    i_list.append(n)\n",
    "    time_list.append(calc_time_total)\n",
    "i_array = np.array(i_list)\n",
    "time_array = np.array(time_list)\n",
    "\n",
    "result_mfc_p_1 = (i_array, time_array)\n",
    "print('end')"
   ]
  },
  {
   "cell_type": "code",
   "execution_count": 87,
   "metadata": {},
   "outputs": [
    {
     "name": "stdout",
     "output_type": "stream",
     "text": [
      "end\n"
     ]
    }
   ],
   "source": [
    "#partial_fit でも同じ処理をする。\n",
    "\n",
    "i = 0\n",
    "i_list = []\n",
    "time_list = []\n",
    "N = X_scl.shape[0]\n",
    "calc_time_total = 0\n",
    "mfc = MondrianForestClassifier()\n",
    "n = 0\n",
    "while i < N:\n",
    "    i += 10\n",
    "    X_data = X_scl[i-10:i, :]    #次のデータで学習\n",
    "    y_data = y[i-10:i]\n",
    "    calc_time = calc_function(mfc.partial_fit,(X_data,y_data.as_matrix().ravel()) )\n",
    "    calc_time_total += calc_time\n",
    "    \n",
    "    n += X_data.shape[0]\n",
    "    i_list.append(n)\n",
    "    time_list.append(calc_time_total)\n",
    "i_array = np.array(i_list)\n",
    "time_array = np.array(time_list)\n",
    "\n",
    "result_mfc_p_10 = (i_array, time_array)\n",
    "print('end')"
   ]
  },
  {
   "cell_type": "code",
   "execution_count": 88,
   "metadata": {},
   "outputs": [
    {
     "name": "stdout",
     "output_type": "stream",
     "text": [
      "end\n"
     ]
    }
   ],
   "source": [
    "#partial_fit でも同じ処理をする。\n",
    "\n",
    "i = 0\n",
    "i_list = []\n",
    "time_list = []\n",
    "N = X_scl.shape[0]\n",
    "calc_time_total = 0\n",
    "mfc = MondrianForestClassifier()\n",
    "n = 0\n",
    "while i < N:\n",
    "    i += 10000\n",
    "    X_data = X_scl[i-10000:i, :]    #次のデータで学習\n",
    "    y_data = y[i-10000:i]\n",
    "    calc_time = calc_function(mfc.partial_fit,(X_data,y_data.as_matrix().ravel()) )\n",
    "    calc_time_total += calc_time\n",
    "    \n",
    "    n += X_data.shape[0]\n",
    "    i_list.append(n)\n",
    "    time_list.append(calc_time_total)\n",
    "i_array = np.array(i_list)\n",
    "time_array = np.array(time_list)\n",
    "\n",
    "result_mfc_p_10000 = (i_array, time_array)\n",
    "print('end')"
   ]
  },
  {
   "cell_type": "code",
   "execution_count": 96,
   "metadata": {},
   "outputs": [
    {
     "data": {
      "image/png": "[encoded data removed]",
      "text/plain": [
       "<matplotlib.figure.Figure at 0x1a1a91ba90>"
      ]
     },
     "metadata": {},
     "output_type": "display_data"
    }
   ],
   "source": [
    "#データをプロットしてみる\n",
    "%matplotlib inline\n",
    "import matplotlib.pyplot as plt\n",
    "\n",
    "def result_plot(result, name):\n",
    "    x,y = result\n",
    "    plt.plot(x, y, label=name)\n",
    "result_plot(result_mfc_p_1,'Mondrianpartial_fit_8')    \n",
    "result_plot(result_mfc_p_10,'Mondrianpartial_fit_10')\n",
    "result_plot(result_mfc_p_100,'Mondrianpartial_fit_100')\n",
    "result_plot(result_mfc_p, 'Mondrianpartial_fit_1000')\n",
    "result_plot(result_mfc_p_10000,'Mondrianpartial_fit_10000')\n",
    "plt.title('total_calculationtime')\n",
    "plt.xlabel('number of data(number)')\n",
    "plt.ylabel('calculationtime(second)')\n",
    "#凡例の表示\n",
    "plt.legend(loc='upper left')\n",
    "# プロット表示(設定の反映)\n",
    "plt.savefig('total_calculationtime of Mondrian1', dpi=500)\n",
    "plt.show()"
   ]
  },
  {
   "cell_type": "code",
   "execution_count": 74,
   "metadata": {},
   "outputs": [
    {
     "data": {
      "image/png": "[encoded data removed]",
      "text/plain": [
       "<matplotlib.figure.Figure at 0x1a19c6c6d8>"
      ]
     },
     "metadata": {},
     "output_type": "display_data"
    }
   ],
   "source": [
    "#データをプロットしてみる\n",
    "%matplotlib inline\n",
    "import matplotlib.pyplot as plt\n",
    "\n",
    "def result_plot(result, name):\n",
    "    x,y = result\n",
    "    plt.plot(x, y, label=name)\n",
    " \n",
    "result_plot(result_mfc_p_10,'Mondrianpartial_fit_10')\n",
    "result_plot(result_mfc_p_100,'Mondrianpartial_fit_100')\n",
    "result_plot(result_mfc_p, 'Mondrianpartial_fit_1000')\n",
    "result_plot(result_mfc_p_10000,'Mondrianpartial_fit_10000')\n",
    "plt.title('total_calculationtime')\n",
    "plt.xlabel('number of data(number)')\n",
    "plt.ylabel('calculationtime(second)')\n",
    "#凡例の表示\n",
    "plt.legend(loc='upper left')\n",
    "# プロット表示(設定の反映)\n",
    "plt.savefig('total_calculationtime of Mondrian2', dpi=500)\n",
    "plt.show()"
   ]
  },
  {
   "cell_type": "code",
   "execution_count": null,
   "metadata": {
    "collapsed": true
   },
   "outputs": [],
   "source": []
  }
 ],
 "metadata": {
  "kernelspec": {
   "display_name": "Python 3",
   "language": "python",
   "name": "python3"
  },
  "language_info": {
   "codemirror_mode": {
    "name": "ipython",
    "version": 3
   },
   "file_extension": ".py",
   "mimetype": "text/x-python",
   "name": "python",
   "nbconvert_exporter": "python",
   "pygments_lexer": "ipython3",
   "version": "3.6.4"
  }
 },
 "nbformat": 4,
 "nbformat_minor": 2
}
