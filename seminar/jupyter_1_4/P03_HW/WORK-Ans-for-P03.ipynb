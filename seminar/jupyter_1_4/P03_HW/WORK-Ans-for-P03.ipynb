{
 "cells": [
  {
   "cell_type": "markdown",
   "metadata": {},
   "source": [
    "# WORK for P03"
   ]
  },
  {
   "cell_type": "markdown",
   "metadata": {},
   "source": [
    "## [Work-1]\n",
    "分類器を評価するスコアにAUCがある。AUCとは何かを調査しパワポ2枚以下でまとめ、次回講義の前日までにslack（generalまたは講師）で提出下さい（パワポまたはPDF）。ファイル名は「P03WK1-yourname」（yournameはあなたの氏名）とすること。<br>\n",
    "【キーワード】ROC曲線、AUCスコア、分類\n",
    "\n",
    "--> 多分できる前提...<br>\n",
    "--> 気になった点あれば解説時にフィードバック予定(個別フィードバックはしない予定)"
   ]
  },
  {
   "cell_type": "markdown",
   "metadata": {},
   "source": [
    "## [Work-2]\n",
    "以下ページなどを参考にsklearnにおけるAUCの取得方法を確認せよ。<br>\n",
    "http://scikit-learn.org/stable/modules/generated/sklearn.metrics.roc_auc_score.html#sklearn.metrics.roc_auc_score\n",
    "\n",
    "--> y_predが1/0（predict）ではなくスコア（predict_proba）であることが混同行列関連評価指標とは違う点を言及予定."
   ]
  },
  {
   "cell_type": "markdown",
   "metadata": {},
   "source": [
    "## [Work-3]\n",
    "以下のコードを下記視点から拡張せよ。拡張したコードは次回講義の前日までにslack（generalか講師）で提出下さい。<br>ファイル名は「P03WK3-yourname」とすること。<br><br>\n",
    "1) 次の分類アルゴリズムを追加しパイプラインを構築せよ.<br>\n",
    "　～ランダムフォレスト<br>\n",
    "　～勾配ブースティング<br>\n",
    "　～多層パーセプトロン<br>\n",
    "　～線形SVC（LinearSVCの実装方法は各自調査せよ）<br>\n",
    "<br>\n",
    "2) 評価スコアを切り替えてベストモデルが選択できるようにコードを拡張せよ。例えば、AUC基準でベストモデルを決定したい、正解率基準でベストモデルを選択したいというとき、評価基準をGivenとしてパイプラインを性能順に表示させられれば良い。<br>\n",
    "　～出力形式例：パイプライン名称、評価スコアの2カラム（ただし、評価スコアが指定した評価値になっていること）<br>\n",
    "　～指定可能な評価指標：正解率、適合率、再現率、F1スコア、AUC<br>\n",
    "<br>\n",
    "3)（任意）ベストモデルをpkl形式で所定のフォルダに保存できるようにせよ。"
   ]
  },
  {
   "cell_type": "code",
   "execution_count": 7,
   "metadata": {},
   "outputs": [],
   "source": [
    "# SET PARAMETER\n",
    "SCORE = 'recall'"
   ]
  },
  {
   "cell_type": "code",
   "execution_count": 9,
   "metadata": {},
   "outputs": [
    {
     "name": "stdout",
     "output_type": "stream",
     "text": [
      "0 : pipe_knn --> 1.0\n",
      "1 : pipe_logistic --> 1.0\n",
      "2 : pipe_rf --> 0.9722222222222222\n",
      "3 : pipe_gbc --> 1.0\n",
      "4 : pipe_mlpc --> 1.0\n",
      "5 : pipe_svc --> 0.9861111111111112\n"
     ]
    }
   ],
   "source": [
    "# 以下は拡張前のベースとなるコードです.\n",
    "# import basice apis\n",
    "import numpy as np\n",
    "import pandas as pd\n",
    "from sklearn.datasets import load_breast_cancer\n",
    "from sklearn.preprocessing import StandardScaler\n",
    "from sklearn.neighbors import KNeighborsClassifier\n",
    "from sklearn.linear_model import LogisticRegression\n",
    "from sklearn.ensemble import RandomForestClassifier, GradientBoostingClassifier\n",
    "from sklearn.neural_network import MLPClassifier\n",
    "m\n",
    "from sklearn.pipeline import Pipeline\n",
    "from sklearn.model_selection import train_test_split\n",
    "from sklearn.metrics import accuracy_score, f1_score, precision_score, recall_score, roc_auc_score\n",
    "\n",
    "# import Data\n",
    "dataset = load_breast_cancer()\n",
    "X = pd.DataFrame(dataset.data, columns=dataset.feature_names)\n",
    "y = pd.DataFrame(dataset.target, columns=['y'])\n",
    "\n",
    "# Holdout\n",
    "X_train, X_test, y_train, y_test = train_test_split(X, y, test_size=0.20, random_state=1)\n",
    "\n",
    "# set Pipelines\n",
    "pipe_knn = Pipeline([('scl',StandardScaler()), ('est',KNeighborsClassifier())])\n",
    "pipe_logistic = Pipeline([('scl', StandardScaler()), ('est',LogisticRegression(random_state=1))])\n",
    "pipe_rf = Pipeline([('scl', StandardScaler()), ('est',RandomForestClassifier(random_state=1))])\n",
    "pipe_gbc = Pipeline([('scl', StandardScaler()), ('est',GradientBoostingClassifier(random_state=1))])\n",
    "pipe_mlpc = Pipeline([('scl', StandardScaler()), ('est',MLPClassifier(max_iter=500, random_state=1))])\n",
    "pipe_svc = Pipeline([('scl', StandardScaler()), ('est',LinearSVC(random_state=1))])\n",
    "\n",
    "\n",
    "\n",
    "\n",
    "# Evaluation function\n",
    "def get_model_score(y_true, X_test, pipeline, score_type):\n",
    "    if score_type == 'auc':\n",
    "        # \"1\" stands for the Prob of positive samples for the binary classifcation\n",
    "        # AUC requries the y_red would be score(probability). \n",
    "        y_pred = pipeline.predict_proba(X_test)[:,1]\n",
    "        score = roc_auc_score(y_true, y_pred)\n",
    "    elif score_type == 'f1':\n",
    "        y_pred = pipeline.predict(X_test)\n",
    "        score = f1_score(y_true, y_pred)\n",
    "    elif score_type == 'precision':\n",
    "        y_pred = pipeline.predict(X_test)\n",
    "        score = precision_score(y_true, y_pred)\n",
    "    elif score_type == 'accuracy':\n",
    "        y_pred = pipeline.predict(X_test)\n",
    "        score = accuracy_score(y_true, y_pred)\n",
    "    elif score_type == 'recall':\n",
    "        y_pred = pipeline.predict(X_test)\n",
    "        score = recall_score(y_true, y_pred)\n",
    "    else:\n",
    "        score = None\n",
    "    return score\n",
    "\n",
    "# Fit & Evaluation\n",
    "pipe_names = ['pipe_knn', 'pipe_logistic', 'pipe_rf', 'pipe_gbc', 'pipe_mlpc', 'pipe_svc']\n",
    "pipe_lines = [pipe_knn, pipe_logistic, pipe_rf, pipe_gbc, pipe_mlpc, pipe_svc]\n",
    "model_score = []\n",
    "for (i,pipe) in enumerate(pipe_lines):\n",
    "    pipe.fit(X_train, y_train.as_matrix().ravel())\n",
    "    score = get_model_score(y_test.as_matrix().ravel(), X_test, pipe, SCORE)\n",
    "    print(i, ':', pipe_names[i],'-->',score)\n",
    "    model_score.append(score)"
   ]
  },
  {
   "cell_type": "code",
   "execution_count": 11,
   "metadata": {},
   "outputs": [
    {
     "name": "stdout",
     "output_type": "stream",
     "text": [
      "[0, 1, 3, 4]\n"
     ]
    }
   ],
   "source": [
    "# Get the best model and save\n",
    "# Reference: http://oppython.hatenablog.com/entry/2016/05/31/205746\n",
    "index_at_max_score = [i for i, x in enumerate(model_score) if x == max(model_score)]\n",
    "print(index_at_max_score)\n",
    "from sklearn.externals import joblib\n",
    "for index in index_at_max_score:\n",
    "    pipe_lines[index].fit(X, y.as_matrix().ravel())\n",
    "    joblib.dump(pipe_lines[index], pipe_names[index] + '.pkl') "
   ]
  },
  {
   "cell_type": "code",
   "execution_count": null,
   "metadata": {
    "collapsed": true
   },
   "outputs": [],
   "source": []
  }
 ],
 "metadata": {
  "kernelspec": {
   "display_name": "Python 3",
   "language": "python",
   "name": "python3"
  },
  "language_info": {
   "codemirror_mode": {
    "name": "ipython",
    "version": 3
   },
   "file_extension": ".py",
   "mimetype": "text/x-python",
   "name": "python",
   "nbconvert_exporter": "python",
   "pygments_lexer": "ipython3",
   "version": "3.6.4"
  }
 },
 "nbformat": 4,
 "nbformat_minor": 2
}
