{
 "cells": [
  {
   "cell_type": "code",
   "execution_count": 1,
   "metadata": {},
   "outputs": [
    {
     "name": "stdout",
     "output_type": "stream",
     "text": [
      "/Users/tryeting1800002.1/Documents/jupyter/seminar/GUIファイル取得.ipynb\n"
     ]
    },
    {
     "data": {
      "text/plain": [
       "'ok'"
      ]
     },
     "execution_count": 1,
     "metadata": {},
     "output_type": "execute_result"
    }
   ],
   "source": [
    "# モジュールのインポート\n",
    "import os, tkinter, tkinter.filedialog, tkinter.messagebox\n",
    "\n",
    "# ファイル選択ダイアログの表示\n",
    "root = tkinter.Tk()\n",
    "root.withdraw()\n",
    "fTyp = [(\"allfiles\",\"*.*\")]\n",
    "iDir = os.path.abspath(os.path.dirname('__file__'))\n",
    "tkinter.messagebox.showinfo('○×プログラム','処理ファイルを選択してください！')\n",
    "file = tkinter.filedialog.askopenfilename(initialdir = iDir)\n",
    "#(filetypes = fTyp,initialdir = iDir)\n",
    "\n",
    "# 処理ファイル名の出力\n",
    "print(file)\n",
    "tkinter.messagebox.showinfo('○×プログラム',file)"
   ]
  },
  {
   "cell_type": "code",
   "execution_count": 1,
   "metadata": {},
   "outputs": [
    {
     "ename": "NameError",
     "evalue": "name '__file__' is not defined",
     "output_type": "error",
     "traceback": [
      "\u001b[0;31m---------------------------------------------------------------------------\u001b[0m",
      "\u001b[0;31mNameError\u001b[0m                                 Traceback (most recent call last)",
      "\u001b[0;32m<ipython-input-1-2ecacf7d53bd>\u001b[0m in \u001b[0;36m<module>\u001b[0;34m()\u001b[0m\n\u001b[1;32m      5\u001b[0m \u001b[0mroot\u001b[0m\u001b[0;34m.\u001b[0m\u001b[0mwithdraw\u001b[0m\u001b[0;34m(\u001b[0m\u001b[0;34m)\u001b[0m\u001b[0;34m\u001b[0m\u001b[0m\n\u001b[1;32m      6\u001b[0m \u001b[0mfTyp\u001b[0m \u001b[0;34m=\u001b[0m \u001b[0;34m[\u001b[0m\u001b[0;34m(\u001b[0m\u001b[0;34m\"\"\u001b[0m\u001b[0;34m,\u001b[0m\u001b[0;34m\"*\"\u001b[0m\u001b[0;34m)\u001b[0m\u001b[0;34m]\u001b[0m\u001b[0;34m\u001b[0m\u001b[0m\n\u001b[0;32m----> 7\u001b[0;31m \u001b[0miDir\u001b[0m \u001b[0;34m=\u001b[0m \u001b[0mos\u001b[0m\u001b[0;34m.\u001b[0m\u001b[0mpath\u001b[0m\u001b[0;34m.\u001b[0m\u001b[0mabspath\u001b[0m\u001b[0;34m(\u001b[0m\u001b[0mos\u001b[0m\u001b[0;34m.\u001b[0m\u001b[0mpath\u001b[0m\u001b[0;34m.\u001b[0m\u001b[0mdirname\u001b[0m\u001b[0;34m(\u001b[0m\u001b[0m__file__\u001b[0m\u001b[0;34m)\u001b[0m\u001b[0;34m)\u001b[0m\u001b[0;34m\u001b[0m\u001b[0m\n\u001b[0m\u001b[1;32m      8\u001b[0m \u001b[0mtkinter\u001b[0m\u001b[0;34m.\u001b[0m\u001b[0mmessagebox\u001b[0m\u001b[0;34m.\u001b[0m\u001b[0mshowinfo\u001b[0m\u001b[0;34m(\u001b[0m\u001b[0;34m'○×プログラム'\u001b[0m\u001b[0;34m,\u001b[0m\u001b[0;34m'処理ファイルを選択してください！'\u001b[0m\u001b[0;34m)\u001b[0m\u001b[0;34m\u001b[0m\u001b[0m\n\u001b[1;32m      9\u001b[0m \u001b[0mfile\u001b[0m \u001b[0;34m=\u001b[0m \u001b[0mtkinter\u001b[0m\u001b[0;34m.\u001b[0m\u001b[0mfiledialog\u001b[0m\u001b[0;34m.\u001b[0m\u001b[0maskopenfilename\u001b[0m\u001b[0;34m(\u001b[0m\u001b[0mfiletypes\u001b[0m \u001b[0;34m=\u001b[0m \u001b[0mfTyp\u001b[0m\u001b[0;34m,\u001b[0m\u001b[0minitialdir\u001b[0m \u001b[0;34m=\u001b[0m \u001b[0miDir\u001b[0m\u001b[0;34m)\u001b[0m\u001b[0;34m\u001b[0m\u001b[0m\n",
      "\u001b[0;31mNameError\u001b[0m: name '__file__' is not defined"
     ]
    }
   ],
   "source": [
    "import os, tkinter, tkinter.filedialog, tkinter.messagebox\n",
    "\n",
    "# ファイル選択ダイアログの表示\n",
    "root = tkinter.Tk()\n",
    "root.withdraw()\n",
    "fTyp = [(\"\",\"*\")]\n",
    "iDir = os.path.abspath(os.path.dirname(__file__))\n",
    "tkinter.messagebox.showinfo('○×プログラム','処理ファイルを選択してください！')\n",
    "file = tkinter.filedialog.askopenfilename(filetypes = fTyp,initialdir = iDir)\n",
    "\n",
    "# 処理ファイル名の出力\n",
    "tkinter.messagebox.showinfo('○×プログラム',file)"
   ]
  }
 ],
 "metadata": {
  "kernelspec": {
   "display_name": "Python 3",
   "language": "python",
   "name": "python3"
  },
  "language_info": {
   "codemirror_mode": {
    "name": "ipython",
    "version": 3
   },
   "file_extension": ".py",
   "mimetype": "text/x-python",
   "name": "python",
   "nbconvert_exporter": "python",
   "pygments_lexer": "ipython3",
   "version": "3.6.4"
  }
 },
 "nbformat": 4,
 "nbformat_minor": 2
}
