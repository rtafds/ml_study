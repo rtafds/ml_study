{
 "cells": [
  {
   "cell_type": "code",
   "execution_count": 8,
   "metadata": {},
   "outputs": [],
   "source": [
    "from selenium import webdriver\n",
    "from selenium.webdriver.common.keys import Keys"
   ]
  },
  {
   "cell_type": "code",
   "execution_count": 9,
   "metadata": {},
   "outputs": [],
   "source": [
    "driver = webdriver.Chrome(executable_path=\"../../chromedriver\")\n",
    "driver.get(\"https://www.google.co.jp/\")"
   ]
  },
  {
   "cell_type": "code",
   "execution_count": 10,
   "metadata": {},
   "outputs": [],
   "source": [
    "driver.find_element_by_id('lst-ib').send_keys(\"yahoo\")\n",
    "driver.find_element_by_id('lst-ib').send_keys(Keys.ENTER)"
   ]
  },
  {
   "cell_type": "code",
   "execution_count": 1,
   "metadata": {},
   "outputs": [],
   "source": [
    "# coding: UTF-8\n",
    "from time import sleep\n",
    "from bs4 import BeautifulSoup\n",
    "from selenium import webdriver\n",
    "from selenium.webdriver.chrome.options import Options\n",
    "from selenium.webdriver.common.keys import Keys"
   ]
  },
  {
   "cell_type": "code",
   "execution_count": 44,
   "metadata": {},
   "outputs": [
    {
     "name": "stderr",
     "output_type": "stream",
     "text": [
      "/usr/local/var/pyenv/versions/anaconda3-5.2.0/lib/python3.6/site-packages/ipykernel_launcher.py:13: DeprecationWarning: use setter for headless property instead of set_headless\n",
      "  del sys.path[0]\n",
      "/usr/local/var/pyenv/versions/anaconda3-5.2.0/lib/python3.6/site-packages/ipykernel_launcher.py:16: DeprecationWarning: use options instead of chrome_options\n",
      "  app.launch_new_instance()\n"
     ]
    }
   ],
   "source": [
    "# Googleログイン用\n",
    "# 諦めた\n",
    "if __name__ == '__main__':\n",
    " \n",
    "    # URL関連\n",
    "    url = \"https://accounts.google.com/signin/v2/sl/pwd?continue=https%3A%2F%2Fmyaccount.google.com%2F%3Futm_source%3DOGB%26utm_medium%3Dapp%26authuser%3D%26pageId%3Dnone&sacu=1&ignoreShadow=0&acui=2&flowName=GlifWebSignIn&flowEntry=AddSession&cid=0&navigationDirection=forward\"\n",
    "    login = \"hiyokomamitsu@gmail.com\"\n",
    "    password = \"ALlisgame3574\"\n",
    " \n",
    "    # ヘッドレスモードの設定。\n",
    "    # True => ブラウザを描写しない。\n",
    "    # False => ブラウザを描写する。\n",
    "    options = Options()\n",
    "    options.set_headless(False)\n",
    " \n",
    "    # Chromeを起動\n",
    "    driver = webdriver.Chrome(executable_path=\"../../chromedriver\", chrome_options=options)\n",
    " \n",
    "    # ログインページを開く\n",
    "    driver.get(url)\n",
    " \n",
    "    # ログオン処理\n",
    "    # ユーザー名入力\n",
    "    driver.find_element_by_id(\"identifierId\").send_keys(login)\n",
    "    driver.find_element_by_class_name(\"CwaK9\").click()  \n",
    "    \n",
    "    sleep(1)\n",
    "    # 電話番号を入力\n",
    "    number = \"09079561892\"\n",
    "    driver.find_element_by_id(\"recoveryIdentifierId\").send_keys(number)\n",
    "    driver.find_element_by_class_name(\"CwaK9\").click()\n",
    "    \n",
    "    sleep(1)\n",
    "    \n",
    "    firstname = \"充朗\"\n",
    "    lastname = \"牧野\"\n",
    "    driver.find_element_by_id(\"lastName\").send_keys(lastname)\n",
    "    driver.find_element_by_id(\"firstName\").send_keys(firstname)\n",
    "    sleep(2)\n",
    "    driver.find_element_by_class_name(\"CwaK9\").click()  \n",
    "    \n",
    " "
   ]
  },
  {
   "cell_type": "markdown",
   "metadata": {},
   "source": [
    "本番"
   ]
  },
  {
   "cell_type": "code",
   "execution_count": 2,
   "metadata": {},
   "outputs": [],
   "source": [
    "# coding: UTF-8\n",
    "from time import sleep\n",
    "from bs4 import BeautifulSoup\n",
    "from selenium import webdriver\n",
    "from selenium.webdriver.chrome.options import Options\n",
    "from selenium.webdriver.common.keys import Keys"
   ]
  },
  {
   "cell_type": "code",
   "execution_count": 3,
   "metadata": {},
   "outputs": [
    {
     "name": "stderr",
     "output_type": "stream",
     "text": [
      "/usr/local/var/pyenv/versions/anaconda3-5.2.0/lib/python3.6/site-packages/ipykernel_launcher.py:12: DeprecationWarning: use setter for headless property instead of set_headless\n",
      "  if sys.path[0] == '':\n",
      "/usr/local/var/pyenv/versions/anaconda3-5.2.0/lib/python3.6/site-packages/ipykernel_launcher.py:15: DeprecationWarning: use options instead of chrome_options\n",
      "  from ipykernel import kernelapp as app\n"
     ]
    }
   ],
   "source": [
    "if __name__ == '__main__':\n",
    " \n",
    "    # URL関連\n",
    "    url = \"https://eth-trade.jp/\"\n",
    "    login = \"hiyokomamitsu@gmail.com\"\n",
    "    password = \"Allisgame3574\"\n",
    " \n",
    "    # ヘッドレスモードの設定。\n",
    "    # True => ブラウザを描写しない。\n",
    "    # False => ブラウザを描写する。\n",
    "    options = Options()\n",
    "    options.set_headless(False)\n",
    " \n",
    "    # Chromeを起動\n",
    "    driver = webdriver.Chrome(executable_path=\"../../chromedriver\", chrome_options=options)\n",
    " \n",
    "    # ログインページを開く\n",
    "    driver.get(url)\n",
    " \n",
    "    # ログオン処理\n",
    "    # ユーザー名入力\n",
    "    driver.find_element_by_id(\"UserDataLoginId\").send_keys(login)\n",
    "    # パスワード入力\n",
    "    driver.find_element_by_id(\"UserDataLoginPass\").send_keys(password)\n",
    "    driver.find_element_by_class_name(\"btn\").send_keys(Keys.ENTER)   \n",
    "    \n",
    "    # ブラウザの描写が完了させるためにsleep\n",
    "    sleep(10)\n",
    " "
   ]
  },
  {
   "cell_type": "code",
   "execution_count": 4,
   "metadata": {},
   "outputs": [],
   "source": [
    "import httplib2, os\n",
    "from apiclient import discovery\n",
    "from oauth2client import client, tools\n",
    "from oauth2client.file import Storage\n",
    "\n",
    "# Gmail権限のスコープを指定\n",
    "SCOPES = 'https://www.googleapis.com/auth/gmail.readonly'\n",
    "# 認証ファイル\n",
    "CLIENT_SECRET_FILE = 'client_id.json'\n",
    "USER_SECRET_FILE = 'credentials-gmail.json'\n",
    "# ------------------------------------\n",
    "# ユーザ認証データの取得\n",
    "def gmail_user_auth():\n",
    "    store = Storage(USER_SECRET_FILE)\n",
    "    credentials = store.get()\n",
    "    if not credentials or credentials.invalid:\n",
    "        flow = client.flow_from_clientsecrets(CLIENT_SECRET_FILE, SCOPES)\n",
    "        flow.user_agent = 'Python Gmail API'\n",
    "        credentials = tools.run_flow(flow, store, None)\n",
    "        print('認証結果を保存しました:' + USER_SECRET_FILE)\n",
    "    return credentials\n",
    "# Gmailのサービスを取得\n",
    "def gmail_get_service():\n",
    "    credentials = gmail_user_auth()\n",
    "    http = credentials.authorize(httplib2.Http())\n",
    "    service = discovery.build('gmail', 'v1', http=http)\n",
    "    return service\n",
    "# ------------------------------------\n",
    "# GmailのAPIが使えるようにする\n",
    "service = gmail_get_service()"
   ]
  },
  {
   "cell_type": "code",
   "execution_count": 8,
   "metadata": {},
   "outputs": [
    {
     "name": "stdout",
     "output_type": "stream",
     "text": [
      "Binance自動トレード PINコードPINコード：327182 PINコード有効期限：2018年09月27日 00時15分59秒このメールが [迷惑メール] に振り分けられた場合は、スレッドから迷惑メールマークをはずし、受信トレイに移動してください。よろしくお願いします。\n"
     ]
    }
   ],
   "source": [
    "# pincodeを取得\n",
    "messages = service.users().messages()\n",
    "msg_list = messages.list(userId='me', maxResults=2).execute()\n",
    "# 先頭のメッセージ情報を得る\n",
    "msg = msg_list['messages'][0]\n",
    "# idを得る\n",
    "id = msg['id']\n",
    "threadid = msg['threadId']\n",
    "# メッセージの本体を取得する\n",
    "data = messages.get(userId='me', id=id).execute()\n",
    "pincode = data['snippet'][27:33]"
   ]
  },
  {
   "cell_type": "code",
   "execution_count": 10,
   "metadata": {
    "scrolled": true
   },
   "outputs": [],
   "source": [
    "driver.find_element_by_id(\"PinDataCode\").send_keys(pincode)\n",
    "driver.find_element_by_class_name(\"btn\").click()\n",
    "sleep(5)"
   ]
  },
  {
   "cell_type": "code",
   "execution_count": 12,
   "metadata": {},
   "outputs": [],
   "source": [
    "driver.find_element_by_class_name(\"menubtn\").click()\n",
    "driver.find_element_by_class_name(\"icon07\").click()"
   ]
  },
  {
   "cell_type": "code",
   "execution_count": null,
   "metadata": {},
   "outputs": [],
   "source": []
  }
 ],
 "metadata": {
  "kernelspec": {
   "display_name": "Python 3",
   "language": "python",
   "name": "python3"
  },
  "language_info": {
   "codemirror_mode": {
    "name": "ipython",
    "version": 3
   },
   "file_extension": ".py",
   "mimetype": "text/x-python",
   "name": "python",
   "nbconvert_exporter": "python",
   "pygments_lexer": "ipython3",
   "version": "3.6.5"
  }
 },
 "nbformat": 4,
 "nbformat_minor": 2
}
