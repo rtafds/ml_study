{
 "cells": [
  {
   "cell_type": "markdown",
   "metadata": {},
   "source": [
    "# モデル評価（k-fold法） "
   ]
  },
  {
   "cell_type": "markdown",
   "metadata": {},
   "source": [
    "データが十分に大きければ（例えば、訓練データで数百万レコード、検証データで数十万レコードの規模）、holdout法によるCV検証スコア（Cross ValidationのTESTデータの評価値）は安定するでしょうが、そうでない場合、holdoutのCV検証スコアがブレるであろうことは想像できます。そこで実質k回のholdoutを実施しそのCV検証スコアの平均値を比較することで、より精緻にベストモデルの選択判断を行おうというものがk-fold法でした。<br><br>以下実装例を紹介します。"
   ]
  },
  {
   "cell_type": "code",
   "execution_count": 1,
   "metadata": {
    "collapsed": true
   },
   "outputs": [],
   "source": [
    "# Load and return the breast cancer wisconsin dataset (classification).\n",
    "# the Breast Cancer dataset is a classic and very easy binary classification dataset.\n",
    "import pandas as pd\n",
    "from sklearn.datasets import load_breast_cancer\n",
    "\n",
    "dataset = load_breast_cancer()\n",
    "X = pd.DataFrame(dataset.data, columns=dataset.feature_names)\n",
    "y = pd.DataFrame(dataset.target, columns=['y'])"
   ]
  },
  {
   "cell_type": "markdown",
   "metadata": {},
   "source": [
    "holdoutの実装はtrain_test_split、kfoldの実装はcross_val_scoreです。<br>まずは比較のためholdoutを実施。"
   ]
  },
  {
   "cell_type": "code",
   "execution_count": 2,
   "metadata": {},
   "outputs": [
    {
     "name": "stdout",
     "output_type": "stream",
     "text": [
      "CV_Test:0.982456\n"
     ]
    }
   ],
   "source": [
    "from sklearn.model_selection import train_test_split\n",
    "from sklearn.preprocessing import StandardScaler\n",
    "from sklearn.linear_model import LogisticRegression\n",
    "from sklearn.metrics import accuracy_score\n",
    "from sklearn.pipeline import Pipeline\n",
    "\n",
    "# 比較のためholdoutの準備\n",
    "X_train, X_test, y_train, y_test = train_test_split(X, y, test_size=0.2, random_state=1)\n",
    "\n",
    "# パイプラインのセット\n",
    "pipe_logistic = Pipeline([('scl',StandardScaler()),('est',LogisticRegression(random_state=1))])\n",
    "\n",
    "# 学習\n",
    "pipe_logistic.fit(X_train, y_train.as_matrix().ravel())\n",
    "\n",
    "# 評価\n",
    "print('CV_Test:%.6f' % accuracy_score(y_test.as_matrix().ravel(), pipe_logistic.predict(X_test)))"
   ]
  },
  {
   "cell_type": "markdown",
   "metadata": {},
   "source": [
    "次に、k=10のk-fold法によって異なる10個のCV検証スコアを取得します。実装は非常にシンプルで以下1行でできます。データ分割の処理を明示的に書く必要がない点に留意ください。渡しているデータはXとyです。"
   ]
  },
  {
   "cell_type": "code",
   "execution_count": 3,
   "metadata": {},
   "outputs": [
    {
     "name": "stdout",
     "output_type": "stream",
     "text": [
      "[ 0.98275862  0.98275862  0.98245614  0.98245614  0.98245614  0.98245614\n",
      "  0.94736842  1.          1.          0.98214286]\n"
     ]
    }
   ],
   "source": [
    "from sklearn.model_selection import cross_val_score\n",
    "cv_results = cross_val_score(pipe_logistic, X, y.as_matrix().ravel(), cv=10, scoring='accuracy')\n",
    "print(cv_results)"
   ]
  },
  {
   "cell_type": "markdown",
   "metadata": {},
   "source": [
    "CV検証スコアの基礎統計量は、例えば以下のように取得できます。"
   ]
  },
  {
   "cell_type": "code",
   "execution_count": 4,
   "metadata": {},
   "outputs": [
    {
     "name": "stdout",
     "output_type": "stream",
     "text": [
      "               0\n",
      "count  10.000000\n",
      "mean    0.982485\n",
      "std     0.014326\n",
      "min     0.947368\n",
      "25%     0.982456\n",
      "50%     0.982456\n",
      "75%     0.982759\n",
      "max     1.000000\n"
     ]
    }
   ],
   "source": [
    "print(pd.DataFrame(cv_results).describe())"
   ]
  },
  {
   "cell_type": "markdown",
   "metadata": {},
   "source": [
    "以上から、CV検証スコアの平均は0.98程度、標準偏差は0.014と小さく、10回の検証における最小評価値は0.947、最大評価値は1.00とわかりました。実務では、CV検証スコアの平均値を評価すれば十分ですが、最終選択モデルについては、最小スコアと最大スコアが平均スコアから著しく乖離していないかの確認はするようにしましょう。もし乖離が大きい場合、データサンプルを増やせないか、学習データに異常なデータが混入していないかなどの確認をしましょう。"
   ]
  }
 ],
 "metadata": {
  "kernelspec": {
   "display_name": "Python 3",
   "language": "python",
   "name": "python3"
  },
  "language_info": {
   "codemirror_mode": {
    "name": "ipython",
    "version": 3
   },
   "file_extension": ".py",
   "mimetype": "text/x-python",
   "name": "python",
   "nbconvert_exporter": "python",
   "pygments_lexer": "ipython3",
   "version": "3.6.4"
  }
 },
 "nbformat": 4,
 "nbformat_minor": 2
}
