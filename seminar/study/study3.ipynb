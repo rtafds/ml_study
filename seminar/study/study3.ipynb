{
 "cells": [
  {
   "cell_type": "code",
   "execution_count": 60,
   "metadata": {},
   "outputs": [],
   "source": [
    "#SET PARAMETER\n",
    "SCORE = 'precision'"
   ]
  },
  {
   "cell_type": "code",
   "execution_count": 61,
   "metadata": {},
   "outputs": [
    {
     "name": "stdout",
     "output_type": "stream",
     "text": [
      "0 : pipe_knn --> 0.935064935064935\n",
      "1 : pipe_logistic --> 0.972972972972973\n",
      "2 : pipe_rf --> 0.9459459459459459\n",
      "3 : pipe_gbc --> 0.9473684210526315\n",
      "4 : pipe_mlpc --> 0.9473684210526315\n",
      "5 : pipe_svc --> 0.9726027397260274\n"
     ]
    }
   ],
   "source": [
    "# 以下は拡張前のベースとなるコードです.\n",
    "# import basice apis\n",
    "import numpy as np\n",
    "import pandas as pd\n",
    "from sklearn.datasets import load_breast_cancer\n",
    "from sklearn.preprocessing import StandardScaler\n",
    "from sklearn.neighbors import KNeighborsClassifier\n",
    "from sklearn.linear_model import LogisticRegression\n",
    "from sklearn.pipeline import Pipeline\n",
    "from sklearn.model_selection import train_test_split\n",
    "from sklearn.ensemble import RandomForestClassifier, GradientBoostingClassifier\n",
    "from sklearn.neural_network import MLPClassifier\n",
    "from sklearn.svm import LinearSVC\n",
    "from sklearn.metrics import accuracy_score,f1_score, precision_score, recall_score, roc_auc_score\n",
    "\n",
    "# import Sample Data to learn models\n",
    "dataset = load_breast_cancer()\n",
    "X = pd.DataFrame(dataset.data, columns=dataset.feature_names)\n",
    "y = pd.DataFrame(dataset.target, columns=['y'])\n",
    "\n",
    "# cross-validation by holdout\n",
    "X_train,X_test,y_train,y_test = train_test_split(X, y,test_size=0.20, random_state=1)\n",
    "\n",
    "# set pipelines for two different algorithms\n",
    "pipe_knn = Pipeline([('scl',StandardScaler()), ('est',KNeighborsClassifier())])\n",
    "pipe_logistic = Pipeline([('scl', StandardScaler()), ('est',LogisticRegression(random_state=1))])\n",
    "pipe_rf = Pipeline([('scl', StandardScaler()), ('est', RandomForestClassifier(random_state=1))])\n",
    "pipe_gbc = Pipeline([('scl', StandardScaler()),('est', GradientBoostingClassifier(random_state=1))])\n",
    "pipe_mlpc = Pipeline([('scl', StandardScaler()),('est',MLPClassifier(max_iter=500, random_state=1))])\n",
    "pipe_svc = Pipeline([('scl', StandardScaler()), ('est',LinearSVC(random_state=1))])\n",
    "\n",
    "\n",
    "\n",
    "# Evaluation function\n",
    "def get_model_score(y_true, X_test, pipeline, score_type):\n",
    "    if score_type == 'auc':\n",
    "        y_pred = pipeline.predict_proba(X_test)[:,1]\n",
    "        score = roc_auc_score(y_true, y_pred)\n",
    "    elif score_type == 'f1':\n",
    "        y_pred = pipeline.predict(X_test)\n",
    "        score = f1_score(y_true, y_pred)\n",
    "    elif score_type == 'precision':\n",
    "        y_pred = pipeline.predict(X_test)\n",
    "        score = precision_score(y_true, y_pred)\n",
    "    elif score_type == 'accuracy':\n",
    "        y_pred = pipeline.predict(X_test)\n",
    "        score = accuracy_score(y_true, y_pred)\n",
    "    elif score_type == 'recall':\n",
    "        y_pred = pipeline.predict(X_test)\n",
    "        score = recall_score(y_true, y_pred)\n",
    "    else:\n",
    "        score = None\n",
    "    return score\n",
    "\n",
    "# Fit & Evaluation\n",
    "pipe_names = ['pipe_knn', 'pipe_logistic', 'pipe_rf', 'pipe_gbc', 'pipe_mlpc', 'pipe_svc']\n",
    "pipe_lines = [pipe_knn, pipe_logistic, pipe_rf, pipe_gbc, pipe_mlpc, pipe_svc]\n",
    "model_score = []\n",
    "for (i,pipe) in enumerate(pipe_lines):\n",
    "    pipe.fit(X_train, y_train.as_matrix().ravel())\n",
    "    score = get_model_score(y_test.as_matrix().ravel(), X_test, pipe, SCORE)\n",
    "    print(i, ':', pipe_names[i],'-->',score)\n",
    "    model_score.append(score)\n",
    "# パイプラインの学習・評価を追加。\n",
    "# 評価は指定指標の下で実施されるようにする。"
   ]
  },
  {
   "cell_type": "code",
   "execution_count": 62,
   "metadata": {},
   "outputs": [
    {
     "name": "stdout",
     "output_type": "stream",
     "text": [
      "[1]\n"
     ]
    }
   ],
   "source": [
    "#Ger the best model and save\n",
    "# Reference: http://oppython.hatenablog.com/entry/2016/05/31/205746\n",
    "index_at_max_score = [i for i,x in enumerate(model_score) if x == max(model_score)]\n",
    "print(index_at_max_score)\n",
    "from sklearn.externals import joblib\n",
    "#with open('test.txt', 'r') as f:\n",
    "for index  in index_at_max_score:\n",
    "    pipe_lines[index].fit(X,y.as_matrix().ravel())\n",
    "    joblib.dump(pipe_lines[index],pipe_names[index] + '.pkl')\n"
   ]
  },
  {
   "cell_type": "code",
   "execution_count": null,
   "metadata": {},
   "outputs": [],
   "source": []
  },
  {
   "cell_type": "code",
   "execution_count": null,
   "metadata": {},
   "outputs": [],
   "source": []
  }
 ],
 "metadata": {
  "kernelspec": {
   "display_name": "Python 3",
   "language": "python",
   "name": "python3"
  },
  "language_info": {
   "codemirror_mode": {
    "name": "ipython",
    "version": 3
   },
   "file_extension": ".py",
   "mimetype": "text/x-python",
   "name": "python",
   "nbconvert_exporter": "python",
   "pygments_lexer": "ipython3",
   "version": "3.6.4"
  }
 },
 "nbformat": 4,
 "nbformat_minor": 2
}
