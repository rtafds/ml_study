{
 "cells": [
  {
   "cell_type": "markdown",
   "metadata": {},
   "source": [
    "# WORK for P03"
   ]
  },
  {
   "cell_type": "markdown",
   "metadata": {},
   "source": [
    "## [Work-1]\n",
    "分類器を評価するスコアにAUCがある。AUCとは何かを調査しパワポ2枚以下でまとめ、次回講義の前日までにslack（generalまたは講師）で提出下さい（パワポまたはPDF）。ファイル名は「P03WK1-yourname」（yournameはあなたの氏名）とすること。<br>\n",
    "【キーワード】ROC曲線、AUCスコア、分類"
   ]
  },
  {
   "cell_type": "markdown",
   "metadata": {},
   "source": [
    "## [Work-2]\n",
    "以下ページなどを参考にsklearnにおけるAUCの取得方法を確認せよ。<br>\n",
    "http://scikit-learn.org/stable/modules/generated/sklearn.metrics.roc_auc_score.html#sklearn.metrics.roc_auc_score"
   ]
  },
  {
   "cell_type": "markdown",
   "metadata": {},
   "source": [
    "## [Work-3]\n",
    "以下のコードを下記視点から拡張せよ。拡張したコードは次回講義の前日までにslack（generalか講師）で提出下さい。<br>ファイル名は「P03WK3-yourname」とすること。<br><br>\n",
    "1) 次の分類アルゴリズムを追加しパイプラインを構築せよ.<br>\n",
    "　～ランダムフォレスト<br>\n",
    "　～勾配ブースティング<br>\n",
    "　～多層パーセプトロン<br>\n",
    "　～線形SVC（LinearSVCの実装方法は各自調査せよ）<br>\n",
    "<br>\n",
    "2) 評価スコアを切り替えてベストモデルが選択できるようにコードを拡張せよ。例えば、AUC基準でベストモデルを決定したい、正解率基準でベストモデルを選択したいというとき、評価基準をGivenとしてパイプラインを性能順に表示させられれば良い。<br>\n",
    "　～出力形式例：パイプライン名称、評価スコアの2カラム（ただし、評価スコアが指定した評価値になっていること）<br>\n",
    "　～指定可能な評価指標：正解率、適合率、再現率、F1スコア、AUC<br>\n",
    "<br>\n",
    "3)（任意）ベストモデルをpkl形式で所定のフォルダに保存できるようにせよ。"
   ]
  },
  {
   "cell_type": "code",
   "execution_count": null,
   "metadata": {
    "collapsed": true
   },
   "outputs": [],
   "source": [
    "# 以下は拡張前のベースとなるコードです.\n",
    "# import basice apis\n",
    "import numpy as np\n",
    "import pandas as pd\n",
    "from sklearn.datasets import load_breast_cancer\n",
    "from sklearn.preprocessing import StandardScaler\n",
    "from sklearn.neighbors import KNeighborsClassifier\n",
    "from sklearn.linear_model import LogisticRegression\n",
    "from sklearn.pipeline import Pipeline\n",
    "from sklearn.model_selection import train_test_split\n",
    "from sklearn.metrics import accuracy_score\n",
    "\n",
    "# import Sample Data to learn models\n",
    "dataset = load_breast_cancer()\n",
    "X = pd.DataFrame(dataset.data, columns=dataset.feature_names)\n",
    "y = pd.DataFrame(dataset.target, columns=['y'])\n",
    "\n",
    "# cross-validation by holdout\n",
    "X_train,X_test,y_train,y_test = train_test_split(X, y,test_size=0.20, random_state=1)\n",
    "\n",
    "# set pipelines for two different algorithms\n",
    "pipe_knn = Pipeline([('scl',StandardScaler()), ('est',KNeighborsClassifier())])\n",
    "pipe_logistic = Pipeline([('scl', StandardScaler()), ('est',LogisticRegression(random_state=1))])\n",
    "\n",
    "\n",
    "# パイプラインの学習・評価を追加。\n",
    "# 評価は指定指標の下で実施されるようにする。"
   ]
  }
 ],
 "metadata": {
  "kernelspec": {
   "display_name": "Python 3",
   "language": "python",
   "name": "python3"
  },
  "language_info": {
   "codemirror_mode": {
    "name": "ipython",
    "version": 3
   },
   "file_extension": ".py",
   "mimetype": "text/x-python",
   "name": "python",
   "nbconvert_exporter": "python",
   "pygments_lexer": "ipython3",
   "version": "3.6.4"
  }
 },
 "nbformat": 4,
 "nbformat_minor": 2
}
