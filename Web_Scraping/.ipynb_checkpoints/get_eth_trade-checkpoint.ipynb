{
 "cells": [
  {
   "cell_type": "markdown",
   "metadata": {},
   "source": [
    "本番"
   ]
  },
  {
   "cell_type": "code",
   "execution_count": 68,
   "metadata": {},
   "outputs": [],
   "source": [
    "# coding: UTF-8\n",
    "from time import sleep\n",
    "from bs4 import BeautifulSoup\n",
    "from selenium import webdriver\n",
    "from selenium.webdriver.chrome.options import Options\n",
    "from selenium.webdriver.common.keys import Keys\n",
    "\n",
    "import httplib2, os\n",
    "from apiclient import discovery\n",
    "from oauth2client import client, tools\n",
    "from oauth2client.file import Storage\n",
    "\n",
    "import re\n",
    "import pandas as pd\n",
    "from datetime import datetime"
   ]
  },
  {
   "cell_type": "code",
   "execution_count": 2,
   "metadata": {},
   "outputs": [
    {
     "name": "stderr",
     "output_type": "stream",
     "text": [
      "/usr/local/var/pyenv/versions/anaconda3-5.2.0/lib/python3.6/site-packages/ipykernel_launcher.py:12: DeprecationWarning: use setter for headless property instead of set_headless\n",
      "  if sys.path[0] == '':\n",
      "/usr/local/var/pyenv/versions/anaconda3-5.2.0/lib/python3.6/site-packages/ipykernel_launcher.py:15: DeprecationWarning: use options instead of chrome_options\n",
      "  from ipykernel import kernelapp as app\n"
     ]
    }
   ],
   "source": [
    "if __name__ == '__main__':\n",
    " \n",
    "    # URL関連\n",
    "    url = \"https://eth-trade.jp/\"\n",
    "    login = \"hiyokomamitsu@gmail.com\"\n",
    "    password = \"Allisgame3574\"\n",
    " \n",
    "    # ヘッドレスモードの設定。\n",
    "    # True => ブラウザを描写しない。\n",
    "    # False => ブラウザを描写する。\n",
    "    options = Options()\n",
    "    options.set_headless(False)\n",
    " \n",
    "    # Chromeを起動\n",
    "    driver = webdriver.Chrome(executable_path=\"../../chromedriver\", chrome_options=options)\n",
    " \n",
    "    # ログインページを開く\n",
    "    driver.get(url)\n",
    " \n",
    "    # ログオン処理\n",
    "    # ユーザー名入力\n",
    "    driver.find_element_by_id(\"UserDataLoginId\").send_keys(login)\n",
    "    # パスワード入力\n",
    "    driver.find_element_by_id(\"UserDataLoginPass\").send_keys(password)\n",
    "    driver.find_element_by_class_name(\"btn\").send_keys(Keys.ENTER)   \n",
    "    \n",
    "    # ブラウザの描写が完了させるためにsleep\n",
    "    sleep(10)"
   ]
  },
  {
   "cell_type": "code",
   "execution_count": 3,
   "metadata": {},
   "outputs": [],
   "source": [
    "\n",
    "# Gmail権限のスコープを指定\n",
    "SCOPES = 'https://www.googleapis.com/auth/gmail.readonly'\n",
    "# 認証ファイル\n",
    "CLIENT_SECRET_FILE = 'client_id.json'\n",
    "USER_SECRET_FILE = 'credentials-gmail.json'\n",
    "# ------------------------------------\n",
    "# ユーザ認証データの取得\n",
    "def gmail_user_auth():\n",
    "    store = Storage(USER_SECRET_FILE)\n",
    "    credentials = store.get()\n",
    "    if not credentials or credentials.invalid:\n",
    "        flow = client.flow_from_clientsecrets(CLIENT_SECRET_FILE, SCOPES)\n",
    "        flow.user_agent = 'Python Gmail API'\n",
    "        credentials = tools.run_flow(flow, store, None)\n",
    "        print('認証結果を保存しました:' + USER_SECRET_FILE)\n",
    "    return credentials\n",
    "# Gmailのサービスを取得\n",
    "def gmail_get_service():\n",
    "    credentials = gmail_user_auth()\n",
    "    http = credentials.authorize(httplib2.Http())\n",
    "    service = discovery.build('gmail', 'v1', http=http)\n",
    "    return service\n",
    "# ------------------------------------\n",
    "# GmailのAPIが使えるようにする\n",
    "service = gmail_get_service()"
   ]
  },
  {
   "cell_type": "code",
   "execution_count": 115,
   "metadata": {},
   "outputs": [],
   "source": [
    "# pincodeを取得\n",
    "messages = service.users().messages()\n",
    "msg_list = messages.list(userId='me', maxResults=2).execute()\n",
    "# 先頭のメッセージ情報を得る\n",
    "msg = msg_list['messages'][0]\n",
    "# idを得る\n",
    "id = msg['id']\n",
    "threadid = msg['threadId']\n",
    "# メッセージの本体を取得する\n",
    "\n",
    "data = messages.get(userId='me', id=id).execute()\n",
    "pattern=r'([+-]?[0-9]+\\.?[0-9]*)'\n",
    "#pincode = data['snippet'][27:33]\n",
    "pincode = re.findall(pattern,str(data['snippet']))"
   ]
  },
  {
   "cell_type": "code",
   "execution_count": 5,
   "metadata": {
    "scrolled": true
   },
   "outputs": [],
   "source": [
    "driver.find_element_by_id(\"PinDataCode\").send_keys(pincode[0])\n",
    "driver.find_element_by_class_name(\"btn\").click()\n",
    "sleep(5)\n",
    "\n",
    "driver.find_element_by_class_name(\"menubtn\").click()\n",
    "sleep(5)\n",
    "driver.find_element_by_class_name(\"icon07\").click()\n",
    "sleep(5)\n"
   ]
  },
  {
   "cell_type": "code",
   "execution_count": 93,
   "metadata": {},
   "outputs": [],
   "source": [
    "soup = BeautifulSoup(driver.page_source, \"lxml\")\n",
    "driver.close()\n",
    "money_html = soup.find_all(class_=\"blance-wrap\")\n",
    "\n",
    "pattern=r'([+-]?[0-9]+\\.?[0-9]*)'\n",
    "money_data =re.findall(pattern,str(money_html))\n",
    "date = datetime.now().strftime(\"%Y/%m/%d\")\n",
    "time = datetime.now().strftime(\"%H:%M:%S\")"
   ]
  },
  {
   "cell_type": "code",
   "execution_count": 94,
   "metadata": {},
   "outputs": [],
   "source": [
    "df =pd.DataFrame({\"date\" : [date],\n",
    "              \"time\" : [time],\n",
    "              \"USDT\" : [money_data[0]],\n",
    "             \"ETH\" :[money_data[1]]})\n",
    "# 一発目用\n",
    "#df.to_csv(\"eth_trade.csv\", index=False)\n",
    "df.to_csv(\"eth_trade.csv\", index=False, mode='a', header=False)"
   ]
  }
 ],
 "metadata": {
  "kernelspec": {
   "display_name": "Python 3",
   "language": "python",
   "name": "python3"
  },
  "language_info": {
   "codemirror_mode": {
    "name": "ipython",
    "version": 3
   },
   "file_extension": ".py",
   "mimetype": "text/x-python",
   "name": "python",
   "nbconvert_exporter": "python",
   "pygments_lexer": "ipython3",
   "version": "3.6.5"
  }
 },
 "nbformat": 4,
 "nbformat_minor": 2
}
