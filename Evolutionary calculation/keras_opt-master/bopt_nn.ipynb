{
 "cells": [
  {
   "cell_type": "markdown",
   "metadata": {},
   "source": [
    "# Bayesian Optimization on Keras"
   ]
  },
  {
   "cell_type": "markdown",
   "metadata": {},
   "source": [
    "### MNIST training on Keras with Bayesian optimization\n",
    "* This notebook runs MNIST training on Keras using Bayesian optimization to find the best hyper parameters.\n",
    "* The MNIST model here is just a simple one with one input layer, one hidden layer and one output layer, without convolution.\n",
    "* Hyperparameters of the model include the followings:\n",
    "* - output shape of the first layer\n",
    "* - dropout rate of the first layer\n",
    "* - output shape of the second layer\n",
    "* - dropout rate of the second layer\n",
    "* - use batchnormalization or not\n",
    "* - batch size\n",
    "* - number of epochs\n",
    "* - validation rate\n",
    "* I used GPy and GPyOpt to run Bayesian optimization."
   ]
  },
  {
   "cell_type": "markdown",
   "metadata": {},
   "source": [
    "#### Import libraries"
   ]
  },
  {
   "cell_type": "code",
   "execution_count": 13,
   "metadata": {},
   "outputs": [],
   "source": [
    "import GPy, GPyOpt\n",
    "import numpy as np\n",
    "import pandas as pds\n",
    "import random\n",
    "from keras.layers import Activation, Dropout, BatchNormalization, Dense\n",
    "from keras.models import Sequential\n",
    "from keras.datasets import mnist\n",
    "from keras.metrics import categorical_crossentropy\n",
    "from keras.utils import np_utils\n",
    "from keras.optimizers import Adam\n",
    "from keras.callbacks import EarlyStopping"
   ]
  },
  {
   "cell_type": "code",
   "execution_count": null,
   "metadata": {
    "collapsed": true
   },
   "outputs": [],
   "source": []
  },
  {
   "cell_type": "markdown",
   "metadata": {},
   "source": [
    "#### Define MNIST model\n",
    "* includes data loading function, training function, fit function and evaluation function "
   ]
  },
  {
   "cell_type": "code",
   "execution_count": 14,
   "metadata": {
    "collapsed": true
   },
   "outputs": [],
   "source": [
    "# MNIST class\n",
    "class MNIST():\n",
    "    def __init__(self,\n",
    "                 l1_out=512, \n",
    "                 l2_out=512, \n",
    "                 l1_drop=0.2, \n",
    "                 l2_drop=0.2, \n",
    "                 bn1=0,\n",
    "                 bn2=0,\n",
    "                 batch_size=100, \n",
    "                 epochs=10, \n",
    "                 validation_split=0.1):\n",
    "        self.l1_out = l1_out\n",
    "        self.l2_out = l2_out\n",
    "        self.l1_drop = l1_drop\n",
    "        self.l2_drop = l2_drop\n",
    "        self.bn1 = bn1\n",
    "        self.bn2 = bn2\n",
    "        self.batch_size = batch_size\n",
    "        self.epochs = epochs\n",
    "        self.validation_split = validation_split\n",
    "        self.__x_train, self.__x_test, self.__y_train, self.__y_test = self.mnist_data()\n",
    "        self.__model = self.mnist_model()\n",
    "        \n",
    "    # load mnist data from keras dataset\n",
    "    def mnist_data(self):\n",
    "        (X_train, y_train), (X_test, y_test) = mnist.load_data()\n",
    "        X_train = X_train.reshape(60000, 784)\n",
    "        X_test = X_test.reshape(10000, 784)\n",
    "\n",
    "        X_train = X_train.astype('float32')\n",
    "        X_test = X_test.astype('float32')\n",
    "        X_train /= 255\n",
    "        X_test /= 255\n",
    "\n",
    "        Y_train = np_utils.to_categorical(y_train, 10)\n",
    "        Y_test = np_utils.to_categorical(y_test, 10)\n",
    "        return X_train, X_test, Y_train, Y_test\n",
    "    \n",
    "    # mnist model\n",
    "    def mnist_model(self):\n",
    "        model = Sequential()\n",
    "        model.add(Dense(self.l1_out, input_shape=(784,)))\n",
    "        if self.bn1 == 0:\n",
    "            model.add(BatchNormalization())\n",
    "        model.add(Activation('relu'))\n",
    "        model.add(Dropout(self.l1_drop))\n",
    "        model.add(Dense(self.l2_out))\n",
    "        if self.bn2 == 0:\n",
    "            model.add(BatchNormalization())\n",
    "        model.add(Activation('relu'))\n",
    "        model.add(Dropout(self.l2_drop))\n",
    "        model.add(Dense(10))\n",
    "        model.add(Activation('softmax'))\n",
    "        model.compile(loss='categorical_crossentropy',\n",
    "                      optimizer=Adam(),\n",
    "                      metrics=['accuracy'])\n",
    "\n",
    "        return model\n",
    "    \n",
    "    # fit mnist model\n",
    "    def mnist_fit(self):\n",
    "        early_stopping = EarlyStopping(patience=0, verbose=1)\n",
    "        \n",
    "        self.__model.fit(self.__x_train, self.__y_train,\n",
    "                       batch_size=self.batch_size,\n",
    "                       epochs=self.epochs,\n",
    "                       verbose=0,\n",
    "                       validation_split=self.validation_split,\n",
    "                       callbacks=[early_stopping])\n",
    "    \n",
    "    # evaluate mnist model\n",
    "    def mnist_evaluate(self):\n",
    "        self.mnist_fit()\n",
    "        \n",
    "        evaluation = self.__model.evaluate(self.__x_test, self.__y_test, batch_size=self.batch_size, verbose=0)\n",
    "        return evaluation"
   ]
  },
  {
   "cell_type": "code",
   "execution_count": null,
   "metadata": {
    "collapsed": true
   },
   "outputs": [],
   "source": []
  },
  {
   "cell_type": "markdown",
   "metadata": {},
   "source": [
    "#### Runner function for the MNIST model"
   ]
  },
  {
   "cell_type": "code",
   "execution_count": 15,
   "metadata": {
    "collapsed": true
   },
   "outputs": [],
   "source": [
    "# function to run mnist class\n",
    "def run_mnist(l1_out=512, l2_out=512, \n",
    "              l1_drop=0.2, l2_drop=0.2, \n",
    "              bn1=0, bn2=0,\n",
    "              batch_size=100, epochs=10, validation_split=0.1):\n",
    "    \n",
    "    _mnist = MNIST()\n",
    "    mnist_evaluation = _mnist.mnist_evaluate()\n",
    "    return mnist_evaluation"
   ]
  },
  {
   "cell_type": "code",
   "execution_count": null,
   "metadata": {
    "collapsed": true
   },
   "outputs": [],
   "source": []
  },
  {
   "cell_type": "markdown",
   "metadata": {
    "collapsed": true
   },
   "source": [
    "## Bayesian Optimization\n",
    "#### bounds for hyper parameters"
   ]
  },
  {
   "cell_type": "code",
   "execution_count": 16,
   "metadata": {
    "collapsed": true
   },
   "outputs": [],
   "source": [
    "# bounds for hyper-parameters in mnist model\n",
    "# the bounds dict should be in order of continuous type and then discrete type\n",
    "bounds = [{'name': 'validation_split', 'type': 'continuous',  'domain': (0.0, 0.3)},\n",
    "          {'name': 'l1_drop',          'type': 'continuous',  'domain': (0.0, 0.3)},\n",
    "          {'name': 'l2_drop',          'type': 'continuous',  'domain': (0.0, 0.3)},\n",
    "          {'name': 'l1_out',           'type': 'discrete',    'domain': (64, 128, 256, 512, 1024)},\n",
    "          {'name': 'l2_out',           'type': 'discrete',    'domain': (64, 128, 256, 512, 1024)},\n",
    "          {'name': 'bn1',              'type': 'discrete',    'domain': (0, 1)},\n",
    "          {'name': 'bn2',              'type': 'discrete',    'domain': (0, 1)},\n",
    "          {'name': 'batch_size',       'type': 'discrete',    'domain': (10, 100, 500)},\n",
    "          {'name': 'epochs',           'type': 'discrete',    'domain': (5, 10, 20)}]"
   ]
  },
  {
   "cell_type": "markdown",
   "metadata": {},
   "source": [
    "#### Bayesian Optimization"
   ]
  },
  {
   "cell_type": "code",
   "execution_count": 17,
   "metadata": {
    "collapsed": true
   },
   "outputs": [],
   "source": [
    "# function to optimize mnist model\n",
    "def f(x):\n",
    "    print(x)\n",
    "    evaluation = run_mnist(\n",
    "        l1_drop = int(x[:,1]), \n",
    "        l2_drop = int(x[:,2]), \n",
    "        l1_out = float(x[:,3]),\n",
    "        l2_out = float(x[:,4]), \n",
    "        bn1 = int(x[:,5]),\n",
    "        bn2 = int(x[:,6]),\n",
    "        batch_size = int(x[:,7]), \n",
    "        epochs = int(x[:,8]), \n",
    "        validation_split = float(x[:,0]))\n",
    "    print(\"loss:{0} \\t\\t accuracy:{1}\".format(evaluation[0], evaluation[1]))\n",
    "    return evaluation[0]"
   ]
  },
  {
   "cell_type": "markdown",
   "metadata": {},
   "source": [
    "#### Optimizer instance"
   ]
  },
  {
   "cell_type": "code",
   "execution_count": 18,
   "metadata": {
    "scrolled": true
   },
   "outputs": [
    {
     "name": "stdout",
     "output_type": "stream",
     "text": [
      "[[  5.39697936e-02   1.94312100e-02   2.38992496e-01   5.12000000e+02\n",
      "    1.28000000e+02   1.00000000e+00   0.00000000e+00   1.00000000e+01\n",
      "    1.00000000e+01]]\n",
      "Epoch 00005: early stopping\n",
      "loss:0.06506255014410271 \t\t accuracy:0.980400008559227\n",
      "[[  1.09812226e-01   2.27021432e-01   2.96083137e-01   1.28000000e+02\n",
      "    6.40000000e+01   0.00000000e+00   0.00000000e+00   5.00000000e+02\n",
      "    1.00000000e+01]]\n",
      "Epoch 00003: early stopping\n",
      "loss:0.07566350179942674 \t\t accuracy:0.9779000067710877\n",
      "[[  2.23116113e-01   3.03583663e-02   5.15287406e-02   1.28000000e+02\n",
      "    5.12000000e+02   0.00000000e+00   1.00000000e+00   5.00000000e+02\n",
      "    2.00000000e+01]]\n",
      "Epoch 00002: early stopping\n",
      "loss:0.07970559070403396 \t\t accuracy:0.9754000079631805\n",
      "[[  2.40348118e-01   2.22332835e-02   7.15477484e-02   5.12000000e+02\n",
      "    6.40000000e+01   0.00000000e+00   1.00000000e+00   1.00000000e+01\n",
      "    2.00000000e+01]]\n",
      "Epoch 00004: early stopping\n",
      "loss:0.07282492852740688 \t\t accuracy:0.9772000026702881\n",
      "[[  2.24195230e-01   2.69542658e-01   8.65667192e-02   5.12000000e+02\n",
      "    1.28000000e+02   1.00000000e+00   0.00000000e+00   5.00000000e+02\n",
      "    2.00000000e+01]]\n",
      "Epoch 00005: early stopping\n",
      "loss:0.06993877510743914 \t\t accuracy:0.9792000067234039\n"
     ]
    }
   ],
   "source": [
    "# optimizer\n",
    "opt_mnist = GPyOpt.methods.BayesianOptimization(f=f, domain=bounds)"
   ]
  },
  {
   "cell_type": "markdown",
   "metadata": {},
   "source": [
    "#### Running optimization"
   ]
  },
  {
   "cell_type": "code",
   "execution_count": 19,
   "metadata": {
    "scrolled": false
   },
   "outputs": [
    {
     "name": "stdout",
     "output_type": "stream",
     "text": [
      "[[  3.00000000e-01   3.00000000e-01   0.00000000e+00   5.12000000e+02\n",
      "    1.28000000e+02   1.00000000e+00   0.00000000e+00   1.00000000e+01\n",
      "    1.00000000e+01]]\n",
      "Epoch 00001: early stopping\n",
      "loss:0.0909516843734309 \t\t accuracy:0.9704000043869019\n",
      "[[  5.39752583e-02   1.94382634e-02   2.38996765e-01   5.12000000e+02\n",
      "    1.28000000e+02   1.00000000e+00   0.00000000e+00   1.00000000e+01\n",
      "    1.00000000e+01]]\n",
      "Epoch 00002: early stopping\n",
      "loss:0.08541888958308846 \t\t accuracy:0.972100003361702\n",
      "[[  2.34766818e-01   2.69630386e-01   8.39893790e-02   5.12000000e+02\n",
      "    1.28000000e+02   1.00000000e+00   0.00000000e+00   5.00000000e+02\n",
      "    2.00000000e+01]]\n",
      "Epoch 00004: early stopping\n",
      "loss:0.07459711219664314 \t\t accuracy:0.9762000066041946\n",
      "[[  2.34766818e-01   2.69630386e-01   8.39893790e-02   5.12000000e+02\n",
      "    1.28000000e+02   1.00000000e+00   0.00000000e+00   5.00000000e+02\n",
      "    2.00000000e+01]]\n",
      "Epoch 00003: early stopping\n",
      "loss:0.07821810089924838 \t\t accuracy:0.975700004696846\n"
     ]
    }
   ],
   "source": [
    "# optimize mnist model\n",
    "opt_mnist.run_optimization(max_iter=15)"
   ]
  },
  {
   "cell_type": "markdown",
   "metadata": {},
   "source": [
    "#### The output"
   ]
  },
  {
   "cell_type": "code",
   "execution_count": 20,
   "metadata": {
    "collapsed": true
   },
   "outputs": [],
   "source": [
    "optbounds = {\n",
    "    'validation_split' : opt_mnist.x_opt[0],\n",
    "    'l1_drop' : opt_mnist.x_opt[1],\n",
    "    'l2_drop' : opt_mnist.x_opt[2],\n",
    "    'l1_out' : opt_mnist.x_opt[3],\n",
    "    'l2_out' : opt_mnist.x_opt[4],\n",
    "    'bn1' : opt_mnist.x_opt[5],\n",
    "    'bn2' : opt_mnist.x_opt[6],\n",
    "    'batch_size' : opt_mnist.x_opt[7],\n",
    "    'epochs' : opt_mnist.x_opt[8],\n",
    "}"
   ]
  },
  {
   "cell_type": "code",
   "execution_count": 21,
   "metadata": {},
   "outputs": [
    {
     "name": "stdout",
     "output_type": "stream",
     "text": [
      "optimized parameters: {'l1_drop': 0.019431209972365925, 'batch_size': 10.0, 'epochs': 10.0, 'validation_split': 0.053969793626947433, 'l2_drop': 0.23899249584771631, 'bn2': 0.0, 'l1_out': 512.0, 'bn1': 1.0, 'l2_out': 128.0}\n",
      "optimized loss: [ 0.06506255]\n"
     ]
    }
   ],
   "source": [
    "# print optimized mnist model\n",
    "print(\"optimized parameters: {0}\".format(optbounds))\n",
    "print(\"optimized loss: {0}\".format(opt_mnist.fx_opt))"
   ]
  },
  {
   "cell_type": "code",
   "execution_count": null,
   "metadata": {},
   "outputs": [],
   "source": []
  },
  {
   "cell_type": "code",
   "execution_count": null,
   "metadata": {
    "collapsed": true
   },
   "outputs": [],
   "source": []
  }
 ],
 "metadata": {
  "anaconda-cloud": {},
  "kernelspec": {
   "display_name": "Python [default]",
   "language": "python",
   "name": "python3"
  },
  "language_info": {
   "codemirror_mode": {
    "name": "ipython",
    "version": 3
   },
   "file_extension": ".py",
   "mimetype": "text/x-python",
   "name": "python",
   "nbconvert_exporter": "python",
   "pygments_lexer": "ipython3",
   "version": "3.5.2"
  }
 },
 "nbformat": 4,
 "nbformat_minor": 2
}
