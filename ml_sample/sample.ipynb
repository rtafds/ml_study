{
 "cells": [
  {
   "cell_type": "code",
   "execution_count": 1,
   "metadata": {},
   "outputs": [],
   "source": [
    "import os\n",
    "import shutil\n",
    "import numpy as np\n",
    "import pandas as pd\n",
    "import time\n",
    "import pickle\n",
    "import gc\n",
    "import warnings\n",
    "warnings.filterwarnings('ignore')\n",
    "\n",
    "from sklearn.model_selection import train_test_split\n",
    "from sklearn.model_selection import KFold\n",
    "from sklearn.linear_model import LogisticRegression\n",
    "from sklearn.linear_model import LinearRegression\n",
    "from sklearn.ensemble import GradientBoostingRegressor\n",
    "from sklearn.ensemble import GradientBoostingClassifier\n",
    "from sklearn.ensemble import RandomForestRegressor\n",
    "from sklearn.preprocessing import StandardScaler\n",
    "from sklearn.pipeline import Pipeline\n",
    "from sklearn.metrics import r2_score\n",
    "from sklearn.metrics import accuracy_score\n",
    "from sklearn.metrics import f1_score\n",
    "\n",
    "import argparse\n",
    "from pmlb import fetch_data\n",
    "from sklearn import datasets"
   ]
  },
  {
   "cell_type": "code",
   "execution_count": 9,
   "metadata": {},
   "outputs": [],
   "source": [
    "test = True\n",
    "# test = False\n",
    "n_splits = 5"
   ]
  },
  {
   "cell_type": "code",
   "execution_count": 8,
   "metadata": {},
   "outputs": [],
   "source": [
    "# データセットの読み込み\n",
    "# fetch data のリスト\n",
    "reviewed_datasets = [\n",
    "     'molecular_biology_promoters',\n",
    "     'car',\n",
    "     'connect_4',\n",
    "     'dna',\n",
    "     '542_pollution',\n",
    "     '560_bodyfat',\n",
    "     '1089_USCrime',\n",
    "     '529_pollen',\n",
    "     'chess',\n",
    "     'penguins',\n",
    "     'bupa',\n",
    "     'movement_libras',\n",
    "     'adult',\n",
    "     'waveform_21',\n",
    "     'waveform_40',\n",
    "     'saheart',\n",
    "     'wine_quality_white',\n",
    "     'wine_quality_red',\n",
    "     'irish',\n",
    "     'mushroom'\n",
    " ]\n",
    "\n",
    "n_splits = 5  # kfoldでcross validationする回数\n",
    "\n",
    "if test:\n",
    "    data_kind_list = [\"B\",\"M\",\"R\"]\n",
    "    use_data_name = [reviewed_datasets[0], reviewed_datasets[1], reviewed_datasets[4]]\n",
    "    dfsets = list(map(fetch_data, use_data_name))\n",
    "else:\n",
    "    sk_datasets_name = [\"load_boston\", \"load_digits\", \"load_wine\", \"fetch_california_housing\"]\n",
    "    sk_datasets = []\n",
    "    for name in sk_datasets_name:\n",
    "        print(name)\n",
    "        data = eval(\"datasets.{}()\".format(name))\n",
    "        X = pd.DataFrame(data.data, columns=data.feature_names)\n",
    "        y = pd.DataFrame(data.target,columns=[\"target\"])\n",
    "        df = pd.concat([X,y], axis=1)\n",
    "        sk_datasets.append(df)\n",
    "    use_data_name = reviewed_datasets\n",
    "    dfsets = list(map(fetch_data, use_data_name)) + sk_datasets\n",
    "    use_data_name = use_data_name + sk_datasets_name\n",
    "    # \"B\": binary classifier, \"C\": multi classifier, \"R\":regression\n",
    "    data_kind_list = [\"B\", \"M\", \"B\", \"B\", \"R\",\"R\",\"R\",\"R\", \"B\", \"B\", \"B\",\"M\",\"B\",\"M\",\"M\",\"B\",\"M\",\"M\",\"B\",\"B\",\"R\",\"R\",\"R\",\"R\"]\n"
   ]
  },
  {
   "cell_type": "code",
   "execution_count": 16,
   "metadata": {},
   "outputs": [],
   "source": [
    "adult = fetch_data(\"adult\")"
   ]
  },
  {
   "cell_type": "code",
   "execution_count": 22,
   "metadata": {},
   "outputs": [],
   "source": [
    "kf = KFold(n_splits=n_splits, shuffle=True)\n",
    "a,b,c,d,e = kf.split(adult)\n",
    "train_row, test_row = a"
   ]
  },
  {
   "cell_type": "code",
   "execution_count": 31,
   "metadata": {},
   "outputs": [],
   "source": [
    "train = adult.iloc[train_row, :]\n",
    "test = adult.iloc[test_row, :]\n",
    "\n",
    "X_train = train.iloc[:,:-1]  # target以外の列\n",
    "y_train  = train.iloc[:,-1]  # targetの行\n",
    "X_test = test.iloc[:,:-1]\n",
    "y_test = test.iloc[:,-1]"
   ]
  },
  {
   "cell_type": "code",
   "execution_count": 40,
   "metadata": {},
   "outputs": [],
   "source": [
    "train_left_columns = [\"age\", \"sex\", \"workclass\", \"fnlwgt\", \"education\"]\n",
    "train_right_columns = [\"age\", \"sex\"] + list( set(X_train.columns) - set(train_left_columns) )\n",
    "\n",
    "train_left = X_train.loc[:, train_left_columns]\n",
    "train_right = X_train.loc[:, train_right_columns]"
   ]
  },
  {
   "cell_type": "code",
   "execution_count": 41,
   "metadata": {},
   "outputs": [],
   "source": [
    "pipe_lr = Pipeline([(\"scl\",StandardScaler()),(\"est\",LogisticRegression()) ])\n",
    "pipe_gb = Pipeline([(\"scl\",StandardScaler()),(\"est\",GradientBoostingClassifier()) ])"
   ]
  },
  {
   "cell_type": "code",
   "execution_count": 45,
   "metadata": {},
   "outputs": [
    {
     "data": {
      "text/plain": [
       "Pipeline(steps=[('scl', StandardScaler()),\n",
       "                ('est', GradientBoostingClassifier())])"
      ]
     },
     "execution_count": 45,
     "metadata": {},
     "output_type": "execute_result"
    }
   ],
   "source": [
    "pipe_lr.fit(X_train, y_train)\n",
    "pipe_gb.fit(X_train, y_train)"
   ]
  },
  {
   "cell_type": "code",
   "execution_count": 46,
   "metadata": {},
   "outputs": [
    {
     "data": {
      "text/plain": [
       "array([1, 0, 1, ..., 1, 1, 0])"
      ]
     },
     "execution_count": 46,
     "metadata": {},
     "output_type": "execute_result"
    }
   ],
   "source": [
    "pipe_lr.predict(X_test)\n",
    "pipe_gb.predict(X_test)"
   ]
  }
 ],
 "metadata": {
  "interpreter": {
   "hash": "e751e513db80362f7a1591df9f50194d00ae5802afccc1246aede7daecaaff1a"
  },
  "kernelspec": {
   "display_name": "Python 3.8.5 64-bit ('base')",
   "language": "python",
   "name": "python3"
  },
  "language_info": {
   "codemirror_mode": {
    "name": "ipython",
    "version": 3
   },
   "file_extension": ".py",
   "mimetype": "text/x-python",
   "name": "python",
   "nbconvert_exporter": "python",
   "pygments_lexer": "ipython3",
   "version": "3.8.5"
  },
  "orig_nbformat": 4
 },
 "nbformat": 4,
 "nbformat_minor": 2
}
