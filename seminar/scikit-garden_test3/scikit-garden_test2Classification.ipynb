{
 "cells": [
  {
   "cell_type": "markdown",
   "metadata": {},
   "source": [
    "# Scikit-garden_test2"
   ]
  },
  {
   "cell_type": "markdown",
   "metadata": {},
   "source": [
    "分類用のサンプルデータであるBreast Cancerを読み込みます。"
   ]
  },
  {
   "cell_type": "code",
   "execution_count": 3,
   "metadata": {},
   "outputs": [
    {
     "name": "stdout",
     "output_type": "stream",
     "text": [
      "----------------------------------------------------------------------------------------\n",
      "X shape: (569,30)\n",
      "y shape: (569,1)\n",
      "----------------------------------------------------------------------------------------\n",
      "y\n",
      "0    212\n",
      "1    357\n",
      "dtype: int64\n",
      "y=0 means Marignant(悪性), y=1 means Benign(良性):\n",
      "----------------------------------------------------------------------------------------\n"
     ]
    },
    {
     "data": {
      "text/html": [
       "<div>\n",
       "<style scoped>\n",
       "    .dataframe tbody tr th:only-of-type {\n",
       "        vertical-align: middle;\n",
       "    }\n",
       "\n",
       "    .dataframe tbody tr th {\n",
       "        vertical-align: top;\n",
       "    }\n",
       "\n",
       "    .dataframe thead th {\n",
       "        text-align: right;\n",
       "    }\n",
       "</style>\n",
       "<table border=\"1\" class=\"dataframe\">\n",
       "  <thead>\n",
       "    <tr style=\"text-align: right;\">\n",
       "      <th></th>\n",
       "      <th>mean radius</th>\n",
       "      <th>mean texture</th>\n",
       "      <th>mean perimeter</th>\n",
       "      <th>mean area</th>\n",
       "      <th>mean smoothness</th>\n",
       "      <th>mean compactness</th>\n",
       "      <th>mean concavity</th>\n",
       "      <th>mean concave points</th>\n",
       "      <th>mean symmetry</th>\n",
       "      <th>mean fractal dimension</th>\n",
       "      <th>...</th>\n",
       "      <th>worst texture</th>\n",
       "      <th>worst perimeter</th>\n",
       "      <th>worst area</th>\n",
       "      <th>worst smoothness</th>\n",
       "      <th>worst compactness</th>\n",
       "      <th>worst concavity</th>\n",
       "      <th>worst concave points</th>\n",
       "      <th>worst symmetry</th>\n",
       "      <th>worst fractal dimension</th>\n",
       "      <th>y</th>\n",
       "    </tr>\n",
       "  </thead>\n",
       "  <tbody>\n",
       "    <tr>\n",
       "      <th>0</th>\n",
       "      <td>17.99</td>\n",
       "      <td>10.38</td>\n",
       "      <td>122.80</td>\n",
       "      <td>1001.0</td>\n",
       "      <td>0.11840</td>\n",
       "      <td>0.27760</td>\n",
       "      <td>0.3001</td>\n",
       "      <td>0.14710</td>\n",
       "      <td>0.2419</td>\n",
       "      <td>0.07871</td>\n",
       "      <td>...</td>\n",
       "      <td>17.33</td>\n",
       "      <td>184.60</td>\n",
       "      <td>2019.0</td>\n",
       "      <td>0.1622</td>\n",
       "      <td>0.6656</td>\n",
       "      <td>0.7119</td>\n",
       "      <td>0.2654</td>\n",
       "      <td>0.4601</td>\n",
       "      <td>0.11890</td>\n",
       "      <td>0</td>\n",
       "    </tr>\n",
       "    <tr>\n",
       "      <th>1</th>\n",
       "      <td>20.57</td>\n",
       "      <td>17.77</td>\n",
       "      <td>132.90</td>\n",
       "      <td>1326.0</td>\n",
       "      <td>0.08474</td>\n",
       "      <td>0.07864</td>\n",
       "      <td>0.0869</td>\n",
       "      <td>0.07017</td>\n",
       "      <td>0.1812</td>\n",
       "      <td>0.05667</td>\n",
       "      <td>...</td>\n",
       "      <td>23.41</td>\n",
       "      <td>158.80</td>\n",
       "      <td>1956.0</td>\n",
       "      <td>0.1238</td>\n",
       "      <td>0.1866</td>\n",
       "      <td>0.2416</td>\n",
       "      <td>0.1860</td>\n",
       "      <td>0.2750</td>\n",
       "      <td>0.08902</td>\n",
       "      <td>0</td>\n",
       "    </tr>\n",
       "    <tr>\n",
       "      <th>2</th>\n",
       "      <td>19.69</td>\n",
       "      <td>21.25</td>\n",
       "      <td>130.00</td>\n",
       "      <td>1203.0</td>\n",
       "      <td>0.10960</td>\n",
       "      <td>0.15990</td>\n",
       "      <td>0.1974</td>\n",
       "      <td>0.12790</td>\n",
       "      <td>0.2069</td>\n",
       "      <td>0.05999</td>\n",
       "      <td>...</td>\n",
       "      <td>25.53</td>\n",
       "      <td>152.50</td>\n",
       "      <td>1709.0</td>\n",
       "      <td>0.1444</td>\n",
       "      <td>0.4245</td>\n",
       "      <td>0.4504</td>\n",
       "      <td>0.2430</td>\n",
       "      <td>0.3613</td>\n",
       "      <td>0.08758</td>\n",
       "      <td>0</td>\n",
       "    </tr>\n",
       "    <tr>\n",
       "      <th>3</th>\n",
       "      <td>11.42</td>\n",
       "      <td>20.38</td>\n",
       "      <td>77.58</td>\n",
       "      <td>386.1</td>\n",
       "      <td>0.14250</td>\n",
       "      <td>0.28390</td>\n",
       "      <td>0.2414</td>\n",
       "      <td>0.10520</td>\n",
       "      <td>0.2597</td>\n",
       "      <td>0.09744</td>\n",
       "      <td>...</td>\n",
       "      <td>26.50</td>\n",
       "      <td>98.87</td>\n",
       "      <td>567.7</td>\n",
       "      <td>0.2098</td>\n",
       "      <td>0.8663</td>\n",
       "      <td>0.6869</td>\n",
       "      <td>0.2575</td>\n",
       "      <td>0.6638</td>\n",
       "      <td>0.17300</td>\n",
       "      <td>0</td>\n",
       "    </tr>\n",
       "    <tr>\n",
       "      <th>4</th>\n",
       "      <td>20.29</td>\n",
       "      <td>14.34</td>\n",
       "      <td>135.10</td>\n",
       "      <td>1297.0</td>\n",
       "      <td>0.10030</td>\n",
       "      <td>0.13280</td>\n",
       "      <td>0.1980</td>\n",
       "      <td>0.10430</td>\n",
       "      <td>0.1809</td>\n",
       "      <td>0.05883</td>\n",
       "      <td>...</td>\n",
       "      <td>16.67</td>\n",
       "      <td>152.20</td>\n",
       "      <td>1575.0</td>\n",
       "      <td>0.1374</td>\n",
       "      <td>0.2050</td>\n",
       "      <td>0.4000</td>\n",
       "      <td>0.1625</td>\n",
       "      <td>0.2364</td>\n",
       "      <td>0.07678</td>\n",
       "      <td>0</td>\n",
       "    </tr>\n",
       "  </tbody>\n",
       "</table>\n",
       "<p>5 rows × 31 columns</p>\n",
       "</div>"
      ],
      "text/plain": [
       "   mean radius  mean texture  mean perimeter  mean area  mean smoothness  \\\n",
       "0        17.99         10.38          122.80     1001.0          0.11840   \n",
       "1        20.57         17.77          132.90     1326.0          0.08474   \n",
       "2        19.69         21.25          130.00     1203.0          0.10960   \n",
       "3        11.42         20.38           77.58      386.1          0.14250   \n",
       "4        20.29         14.34          135.10     1297.0          0.10030   \n",
       "\n",
       "   mean compactness  mean concavity  mean concave points  mean symmetry  \\\n",
       "0           0.27760          0.3001              0.14710         0.2419   \n",
       "1           0.07864          0.0869              0.07017         0.1812   \n",
       "2           0.15990          0.1974              0.12790         0.2069   \n",
       "3           0.28390          0.2414              0.10520         0.2597   \n",
       "4           0.13280          0.1980              0.10430         0.1809   \n",
       "\n",
       "   mean fractal dimension ...  worst texture  worst perimeter  worst area  \\\n",
       "0                 0.07871 ...          17.33           184.60      2019.0   \n",
       "1                 0.05667 ...          23.41           158.80      1956.0   \n",
       "2                 0.05999 ...          25.53           152.50      1709.0   \n",
       "3                 0.09744 ...          26.50            98.87       567.7   \n",
       "4                 0.05883 ...          16.67           152.20      1575.0   \n",
       "\n",
       "   worst smoothness  worst compactness  worst concavity  worst concave points  \\\n",
       "0            0.1622             0.6656           0.7119                0.2654   \n",
       "1            0.1238             0.1866           0.2416                0.1860   \n",
       "2            0.1444             0.4245           0.4504                0.2430   \n",
       "3            0.2098             0.8663           0.6869                0.2575   \n",
       "4            0.1374             0.2050           0.4000                0.1625   \n",
       "\n",
       "   worst symmetry  worst fractal dimension  y  \n",
       "0          0.4601                  0.11890  0  \n",
       "1          0.2750                  0.08902  0  \n",
       "2          0.3613                  0.08758  0  \n",
       "3          0.6638                  0.17300  0  \n",
       "4          0.2364                  0.07678  0  \n",
       "\n",
       "[5 rows x 31 columns]"
      ]
     },
     "execution_count": 3,
     "metadata": {},
     "output_type": "execute_result"
    }
   ],
   "source": [
    "# Load and return the breast cancer wisconsin dataset (classification).\n",
    "# The breast cancer dataset is a classic and very easy binary classification dataset.\n",
    "import pandas as pd\n",
    "from sklearn.datasets import load_breast_cancer\n",
    "\n",
    "dataset = load_breast_cancer()\n",
    "\n",
    "# Set dataframe\n",
    "X = pd.DataFrame(dataset.data, columns=dataset.feature_names)\n",
    "y = pd.DataFrame(dataset.target, columns=['y'])\n",
    "\n",
    "# check the shape\n",
    "print('----------------------------------------------------------------------------------------')\n",
    "print('X shape: (%i,%i)' %X.shape)\n",
    "print('y shape: (%i,%i)' %y.shape)\n",
    "print('----------------------------------------------------------------------------------------')\n",
    "print(y.groupby('y').size())\n",
    "print('y=0 means Marignant(悪性), y=1 means Benign(良性):')\n",
    "print('----------------------------------------------------------------------------------------')\n",
    "X.join(y).head()"
   ]
  },
  {
   "cell_type": "markdown",
   "metadata": {},
   "source": [
    "とりあえず、精度が出るか確認"
   ]
  },
  {
   "cell_type": "code",
   "execution_count": 4,
   "metadata": {},
   "outputs": [
    {
     "name": "stdout",
     "output_type": "stream",
     "text": [
      "RandomForest:0.947\n",
      "GradientBoosting:0.965\n",
      "MondrianForest:0.947\n"
     ]
    },
    {
     "data": {
      "text/plain": [
       "(114, 1)"
      ]
     },
     "execution_count": 4,
     "metadata": {},
     "output_type": "execute_result"
    }
   ],
   "source": [
    "# import basice apis\n",
    "import numpy as np\n",
    "import pandas as pd\n",
    "from sklearn.datasets import load_breast_cancer\n",
    "from sklearn.preprocessing import StandardScaler\n",
    "from sklearn.ensemble import RandomForestClassifier, GradientBoostingClassifier\n",
    "from sklearn.pipeline import Pipeline\n",
    "from sklearn.model_selection import train_test_split\n",
    "from sklearn.metrics import accuracy_score\n",
    "\n",
    "from skgarden.mondrian.ensemble import MondrianForestClassifier\n",
    "\n",
    "# import Sample Data to learn models\n",
    "dataset = load_breast_cancer()\n",
    "X = pd.DataFrame(dataset.data, columns=dataset.feature_names)\n",
    "y = pd.DataFrame(dataset.target, columns=['y'])\n",
    "\n",
    "# split data for crossvalidation\n",
    "X_train, X_test, y_train, y_test = train_test_split(X, y, test_size=0.2, random_state=1)\n",
    "\n",
    "\n",
    "scaler = StandardScaler()\n",
    "scaler.fit(X_train)\n",
    "X_train_scl = scaler.transform(X_train)\n",
    "X_test_scl = scaler.transform(X_test)\n",
    "# set pipelines for different algorithms\n",
    "rf = RandomForestClassifier(random_state=1)\n",
    "gb = GradientBoostingClassifier(random_state=1)\n",
    "mf = MondrianForestClassifier()\n",
    "\n",
    "\n",
    "# fit & evaluation\n",
    "rf.fit(X_train_scl,y_train.as_matrix().ravel()) \n",
    "gb.fit(X_train_scl,y_train.as_matrix().ravel()) \n",
    "mf.fit(X_train_scl,y_train.as_matrix().ravel())\n",
    "\n",
    "\n",
    "print('RandomForest:%.3f' %accuracy_score(y_test.as_matrix().ravel(), rf.predict(X_test_scl)))\n",
    "print('GradientBoosting:%.3f' %accuracy_score(y_test.as_matrix().ravel(), gb.predict(X_test_scl)))\n",
    "print('MondrianForest:%.3f' %accuracy_score(y_test.as_matrix().ravel(), mf.predict(X_test_scl)))\n",
    "X_test_scl.shape\n",
    "y_test.shape"
   ]
  },
  {
   "cell_type": "markdown",
   "metadata": {},
   "source": [
    "とりあえず、この分類では精度はよし。\n",
    "リアルな使い方を軽く想定して、\n",
    "最初に割と大きなの、次に8個くらいに分けて順次読み込みをしてみる。"
   ]
  },
  {
   "cell_type": "code",
   "execution_count": 5,
   "metadata": {},
   "outputs": [
    {
     "name": "stdout",
     "output_type": "stream",
     "text": [
      "X1 shape: (100,30)\n",
      "y1 shape: (100,1)\n",
      "----------------------------------------------------------------------------------------\n",
      "X3 shape: (50,30)\n",
      "y3 shape: (50,1)\n",
      "----------------------------------------------------------------------------------------\n",
      "----------------------------------------------------------------------------------------\n",
      "X5 shape: (50,30)\n",
      "y5 shape: (50,1)\n",
      "----------------------------------------------------------------------------------------\n",
      "----------------------------------------------------------------------------------------\n",
      "X7 shape: (50,30)\n",
      "y7 shape: (50,1)\n",
      "----------------------------------------------------------------------------------------\n",
      "----------------------------------------------------------------------------------------\n",
      "X8 shape: (55,30)\n",
      "y8 shape: (55,1)\n",
      "----------------------------------------------------------------------------------------\n"
     ]
    }
   ],
   "source": [
    "#データセットを8個に分ける\n",
    "\n",
    "X1 = X_train.iloc[:100,:]\n",
    "y1 = y_train.iloc[:100,:]\n",
    "X2 = X_train.iloc[100:150,:]\n",
    "y2 = y_train.iloc[100:150,:]\n",
    "X3 = X_train.iloc[150:200,:]\n",
    "y3 = y_train.iloc[150:200,:]\n",
    "X4 = X_train.iloc[200:250,:]\n",
    "y4 = y_train.iloc[200:250,:]\n",
    "X5 = X_train.iloc[250:300,:]\n",
    "y5 = y_train.iloc[250:300,:]\n",
    "X6 = X_train.iloc[300:350,:]\n",
    "y6 = y_train.iloc[300:350,:]\n",
    "X7 = X_train.iloc[350:400,:]\n",
    "y7 = y_train.iloc[350:400,:]\n",
    "X8 = X_train.iloc[400:,:]\n",
    "y8 = y_train.iloc[400:,:]\n",
    "\n",
    "print('X1 shape: (%i,%i)' %X1.shape)\n",
    "print('y1 shape: (%i,%i)' %y1.shape)\n",
    "print('----------------------------------------------------------------------------------------')\n",
    "print('X3 shape: (%i,%i)' %X3.shape)\n",
    "print('y3 shape: (%i,%i)' %y3.shape)\n",
    "print('----------------------------------------------------------------------------------------')\n",
    "print('----------------------------------------------------------------------------------------')\n",
    "print('X5 shape: (%i,%i)' %X5.shape)\n",
    "print('y5 shape: (%i,%i)' %y5.shape)\n",
    "print('----------------------------------------------------------------------------------------')\n",
    "print('----------------------------------------------------------------------------------------')\n",
    "print('X7 shape: (%i,%i)' %X7.shape)\n",
    "print('y7 shape: (%i,%i)' %y7.shape)\n",
    "\n",
    "print('----------------------------------------------------------------------------------------')\n",
    "print('----------------------------------------------------------------------------------------')\n",
    "print('X8 shape: (%i,%i)' %X8.shape)\n",
    "print('y8 shape: (%i,%i)' %y8.shape)\n",
    "\n",
    "print('----------------------------------------------------------------------------------------')\n"
   ]
  },
  {
   "cell_type": "code",
   "execution_count": 6,
   "metadata": {},
   "outputs": [
    {
     "name": "stdout",
     "output_type": "stream",
     "text": [
      "accuracy score of the MondrianForest model: 0.921\n"
     ]
    }
   ],
   "source": [
    "from skgarden.mondrian.ensemble import MondrianForestClassifier\n",
    "from sklearn.preprocessing import StandardScaler\n",
    "\n",
    "# build the model\n",
    "#変換スケールが先ほどと変わってしまうが、最初のデータX1で標準化する。\n",
    "scaler2 = StandardScaler()\n",
    "scaler2.fit(X1)\n",
    "X1_scl = scaler2.transform(X1)\n",
    "X_test_scl2 = scaler2.transform(X_test)\n",
    "mf2 = MondrianForestClassifier()\n",
    "mf2.fit(X1_scl,y1.as_matrix().ravel())\n",
    "\n",
    "ac1 = accuracy_score(y_test.as_matrix().ravel(), mf2.predict(X_test_scl2))\n",
    "print('accuracy score of the MondrianForest model: %.3f' % ac1)"
   ]
  },
  {
   "cell_type": "code",
   "execution_count": 7,
   "metadata": {},
   "outputs": [
    {
     "name": "stdout",
     "output_type": "stream",
     "text": [
      "accuracy score of the MondrianForest model: 0.886\n"
     ]
    }
   ],
   "source": [
    "X2_scl = scaler2.transform(X2)\n",
    "mf2.partial_fit(X2_scl,y2.as_matrix().ravel())\n",
    "\n",
    "ac2 = accuracy_score(y_test.as_matrix().ravel(), mf2.predict(X_test_scl2))\n",
    "print('accuracy score of the MondrianForest model: %.3f' % ac2)"
   ]
  },
  {
   "cell_type": "code",
   "execution_count": 8,
   "metadata": {},
   "outputs": [
    {
     "name": "stdout",
     "output_type": "stream",
     "text": [
      "accuracy score of the MondrianForest model: 0.895\n"
     ]
    }
   ],
   "source": [
    "X3_scl = scaler2.transform(X3)\n",
    "mf2.partial_fit(X3_scl,y3.as_matrix().ravel())\n",
    "\n",
    "ac3 = accuracy_score(y_test.as_matrix().ravel(), mf2.predict(X_test_scl2))\n",
    "print('accuracy score of the MondrianForest model: %.3f' % ac3)"
   ]
  },
  {
   "cell_type": "code",
   "execution_count": 9,
   "metadata": {},
   "outputs": [
    {
     "name": "stdout",
     "output_type": "stream",
     "text": [
      "accuracy score of the MondrianForest model: 0.921\n"
     ]
    }
   ],
   "source": [
    "X4_scl = scaler2.transform(X4)\n",
    "mf2.partial_fit(X4_scl,y4.as_matrix().ravel())\n",
    "\n",
    "ac4 = accuracy_score(y_test.as_matrix().ravel(), mf2.predict(X_test_scl2))\n",
    "print('accuracy score of the MondrianForest model: %.3f' % ac4)"
   ]
  },
  {
   "cell_type": "code",
   "execution_count": 10,
   "metadata": {},
   "outputs": [
    {
     "name": "stdout",
     "output_type": "stream",
     "text": [
      "accuracy score of the MondrianForest model: 0.930\n"
     ]
    }
   ],
   "source": [
    "X5_scl = scaler2.transform(X5)\n",
    "mf2.partial_fit(X5_scl,y5.as_matrix().ravel())\n",
    "\n",
    "ac5 = accuracy_score(y_test.as_matrix().ravel(), mf2.predict(X_test_scl2))\n",
    "print('accuracy score of the MondrianForest model: %.3f' % ac5)"
   ]
  },
  {
   "cell_type": "code",
   "execution_count": 11,
   "metadata": {},
   "outputs": [
    {
     "name": "stdout",
     "output_type": "stream",
     "text": [
      "accuracy score of the MondrianForest model: 0.930\n"
     ]
    }
   ],
   "source": [
    "X6_scl = scaler2.transform(X6)\n",
    "mf2.partial_fit(X6_scl,y6.as_matrix().ravel())\n",
    "\n",
    "ac6 = accuracy_score(y_test.as_matrix().ravel(), mf2.predict(X_test_scl2))\n",
    "print('accuracy score of the MondrianForest model: %.3f' % ac6)"
   ]
  },
  {
   "cell_type": "code",
   "execution_count": 12,
   "metadata": {},
   "outputs": [
    {
     "name": "stdout",
     "output_type": "stream",
     "text": [
      "accuracy score of the MondrianForest model: 0.939\n"
     ]
    }
   ],
   "source": [
    "X7_scl = scaler2.transform(X7)\n",
    "mf2.partial_fit(X7_scl,y7.as_matrix().ravel())\n",
    "\n",
    "ac7 = accuracy_score(y_test.as_matrix().ravel(), mf2.predict(X_test_scl2))\n",
    "print('accuracy score of the MondrianForest model: %.3f' % ac7)"
   ]
  },
  {
   "cell_type": "code",
   "execution_count": 13,
   "metadata": {},
   "outputs": [
    {
     "name": "stdout",
     "output_type": "stream",
     "text": [
      "accuracy score of the MondrianForest model: 0.939\n"
     ]
    }
   ],
   "source": [
    "X8_scl = scaler2.transform(X8)\n",
    "mf2.partial_fit(X8_scl,y8.as_matrix().ravel())\n",
    "\n",
    "ac8 = accuracy_score(y_test.as_matrix().ravel(), mf2.predict(X_test_scl2))\n",
    "print('accuracy score of the MondrianForest model: %.3f' % ac8)"
   ]
  },
  {
   "cell_type": "markdown",
   "metadata": {},
   "source": [
    "何回か回してみるとなんとなく値が変わる。\n",
    "とりあえず長期的には増えて行って、一気に全体でやる(batch)の場合とだいたい同じになりそう。\n",
    "あとで、グラフ化、いろんなスコアを実装。"
   ]
  },
  {
   "cell_type": "markdown",
   "metadata": {},
   "source": [
    "とりあえず、重要特徴量がわかるのか？\n",
    "MondrianForestClassifierはsklearnのForestClassifierのクラスを継承してるからfeature_importances_があるはず。"
   ]
  },
  {
   "cell_type": "code",
   "execution_count": 20,
   "metadata": {},
   "outputs": [
    {
     "data": {
      "text/plain": [
       "array(['mean radius', 'mean texture', 'mean perimeter', 'mean area',\n",
       "       'mean smoothness', 'mean compactness', 'mean concavity',\n",
       "       'mean concave points', 'mean symmetry', 'mean fractal dimension',\n",
       "       'radius error', 'texture error', 'perimeter error', 'area error',\n",
       "       'smoothness error', 'compactness error', 'concavity error',\n",
       "       'concave points error', 'symmetry error',\n",
       "       'fractal dimension error', 'worst radius', 'worst texture',\n",
       "       'worst perimeter', 'worst area', 'worst smoothness',\n",
       "       'worst compactness', 'worst concavity', 'worst concave points',\n",
       "       'worst symmetry', 'worst fractal dimension'], dtype='<U23')"
      ]
     },
     "execution_count": 20,
     "metadata": {},
     "output_type": "execute_result"
    }
   ],
   "source": [
    "dataset.data.shape[1]\n",
    "dataset.feature_names"
   ]
  },
  {
   "cell_type": "code",
   "execution_count": 14,
   "metadata": {},
   "outputs": [
    {
     "data": {
      "image/png": "[encoded data removed]",
      "text/plain": [
       "<matplotlib.figure.Figure at 0x1a12494780>"
      ]
     },
     "metadata": {},
     "output_type": "display_data"
    }
   ],
   "source": [
    "import matplotlib.pyplot as plt\n",
    "def plot_feature_importances_dataset(model):\n",
    "    n_features = dataset.data.shape[1]\n",
    "    plt.barh(range(n_features), model.feature_importances_,align='center')\n",
    "    plt.yticks(np.arange(n_features),dataset.feature_names)\n",
    "    plt.xlabel('Feature importance')\n",
    "    plt.ylabel('Feature')\n",
    "\n",
    "#動作テスト\n",
    "plot_feature_importances_dataset(rf)\n",
    "plot_feature_importances_dataset(mf)"
   ]
  },
  {
   "cell_type": "code",
   "execution_count": null,
   "metadata": {},
   "outputs": [],
   "source": [
    "feature_importances_なかった。\n",
    "重要特徴量が分かるのを探す。"
   ]
  },
  {
   "cell_type": "code",
   "execution_count": null,
   "metadata": {},
   "outputs": [],
   "source": [
    "mf.weight_decision_path"
   ]
  },
  {
   "cell_type": "markdown",
   "metadata": {},
   "source": [
    "def comparison_algorithms(names, classifiers, X, y):\n",
    "    X = pd.get_dummies(X)\n",
    "    X = StandardScaler().fit_transform(X)\n",
    "\n",
    "    X_train, X_test, y_train, y_test = train_test_split(X, y, test_size=.4, random_state=42)\n",
    "\n",
    "    train_times = []\n",
    "    predict_times = []\n",
    "    scores = []\n",
    "    cv_times = []\n",
    "    cv_scores = []\n",
    "    for name, clf in zip(names, classifiers):\n",
    "        train_time,_ = calc_function(clf.fit, (X_train, y_train))\n",
    "        train_times.append(train_time)\n",
    "\n",
    "        predict_time,score = calc_function(clf.score, (X_test, y_test))\n",
    "        predict_times.append(predict_time)\n",
    "        scores.append(score)\n",
    "\n",
    "        cv_time, cv_score = calc_function(cross_val_score, (clf, X, y, None, None, 5))\n",
    "        cv_times.append(cv_time)\n",
    "        cv_scores.append(np.mean(cv_score))\n",
    "\n",
    "    df = pd.DataFrame()\n",
    "    df[\"name\"] = names\n",
    "    df[\"train_time\"] = train_times\n",
    "    df[\"predict_time\"] = predict_times\n",
    "    df[\"score\"] = scores\n",
    "    df[\"cv_time\"] = cv_times\n",
    "    df[\"cv_score\"] = cv_scores\n",
    "    return df"
   ]
  },
  {
   "cell_type": "code",
   "execution_count": 2,
   "metadata": {},
   "outputs": [
    {
     "ename": "NameError",
     "evalue": "name 'rf' is not defined",
     "output_type": "error",
     "traceback": [
      "\u001b[0;31m---------------------------------------------------------------------------\u001b[0m",
      "\u001b[0;31mNameError\u001b[0m                                 Traceback (most recent call last)",
      "\u001b[0;32m<ipython-input-2-8bb2854b01a4>\u001b[0m in \u001b[0;36m<module>\u001b[0;34m()\u001b[0m\n\u001b[1;32m      7\u001b[0m     \u001b[0;32mreturn\u001b[0m \u001b[0mend\u001b[0m\u001b[0;34m-\u001b[0m\u001b[0mstart\u001b[0m\u001b[0;34m\u001b[0m\u001b[0m\n\u001b[1;32m      8\u001b[0m \u001b[0;34m\u001b[0m\u001b[0m\n\u001b[0;32m----> 9\u001b[0;31m \u001b[0mprint\u001b[0m\u001b[0;34m(\u001b[0m\u001b[0mcalc_function\u001b[0m\u001b[0;34m(\u001b[0m\u001b[0mrf\u001b[0m\u001b[0;34m.\u001b[0m\u001b[0mfit\u001b[0m\u001b[0;34m,\u001b[0m \u001b[0;34m(\u001b[0m\u001b[0mX_train_scl\u001b[0m\u001b[0;34m,\u001b[0m\u001b[0my_train\u001b[0m\u001b[0;34m.\u001b[0m\u001b[0mas_matrix\u001b[0m\u001b[0;34m(\u001b[0m\u001b[0;34m)\u001b[0m\u001b[0;34m.\u001b[0m\u001b[0mravel\u001b[0m\u001b[0;34m(\u001b[0m\u001b[0;34m)\u001b[0m\u001b[0;34m)\u001b[0m \u001b[0;34m)\u001b[0m \u001b[0;34m)\u001b[0m\u001b[0;34m\u001b[0m\u001b[0m\n\u001b[0m\u001b[1;32m     10\u001b[0m \u001b[0;31m#rf.fit(X_train_scl,y_train.as_matrix().ravel())\u001b[0m\u001b[0;34m\u001b[0m\u001b[0;34m\u001b[0m\u001b[0m\n\u001b[1;32m     11\u001b[0m \u001b[0mprint\u001b[0m\u001b[0;34m(\u001b[0m\u001b[0mcalc_function\u001b[0m\u001b[0;34m(\u001b[0m\u001b[0mgb\u001b[0m\u001b[0;34m.\u001b[0m\u001b[0mfit\u001b[0m\u001b[0;34m,\u001b[0m \u001b[0;34m(\u001b[0m\u001b[0mX_train_scl\u001b[0m\u001b[0;34m,\u001b[0m\u001b[0my_train\u001b[0m\u001b[0;34m.\u001b[0m\u001b[0mas_matrix\u001b[0m\u001b[0;34m(\u001b[0m\u001b[0;34m)\u001b[0m\u001b[0;34m.\u001b[0m\u001b[0mravel\u001b[0m\u001b[0;34m(\u001b[0m\u001b[0;34m)\u001b[0m\u001b[0;34m)\u001b[0m \u001b[0;34m)\u001b[0m\u001b[0;34m)\u001b[0m\u001b[0;34m\u001b[0m\u001b[0m\n",
      "\u001b[0;31mNameError\u001b[0m: name 'rf' is not defined"
     ]
    }
   ],
   "source": [
    "import time\n",
    "\n",
    "def calc_function(f, args):\n",
    "    start = time.time()\n",
    "    result = f(*args)\n",
    "    end = time.time()\n",
    "    return end-start\n",
    "\n",
    "print(calc_function(rf.fit, (X_train_scl,y_train.as_matrix().ravel()) ) )\n",
    "#rf.fit(X_train_scl,y_train.as_matrix().ravel())\n",
    "print(calc_function(gb.fit, (X_train_scl,y_train.as_matrix().ravel()) ))\n",
    "print(calc_function(mf.fit,(X_train_scl,y_train.as_matrix().ravel())))"
   ]
  },
  {
   "cell_type": "code",
   "execution_count": null,
   "metadata": {},
   "outputs": [],
   "source": []
  },
  {
   "cell_type": "code",
   "execution_count": null,
   "metadata": {},
   "outputs": [],
   "source": []
  }
 ],
 "metadata": {
  "kernelspec": {
   "display_name": "Python 3",
   "language": "python",
   "name": "python3"
  },
  "language_info": {
   "codemirror_mode": {
    "name": "ipython",
    "version": 3
   },
   "file_extension": ".py",
   "mimetype": "text/x-python",
   "name": "python",
   "nbconvert_exporter": "python",
   "pygments_lexer": "ipython3",
   "version": "3.6.4"
  }
 },
 "nbformat": 4,
 "nbformat_minor": 2
}
