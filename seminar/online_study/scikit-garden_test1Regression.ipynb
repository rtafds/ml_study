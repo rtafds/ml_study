{
 "cells": [
  {
   "cell_type": "markdown",
   "metadata": {},
   "source": [
    "scikit-gardenのテスト"
   ]
  },
  {
   "cell_type": "code",
   "execution_count": 2,
   "metadata": {},
   "outputs": [
    {
     "name": "stdout",
     "output_type": "stream",
     "text": [
      "----------------------------------------------------------------------------------------\n",
      "X shape: (506,13)\n",
      "y shape: (506,1)\n",
      "----------------------------------------------------------------------------------------\n",
      "X1 shape: (100,13)\n",
      "y1 shape: (100,1)\n",
      "----------------------------------------------------------------------------------------\n",
      "X2 shape: (100,13)\n",
      "y2 shape: (100,1)\n",
      "----------------------------------------------------------------------------------------\n",
      "----------------------------------------------------------------------------------------\n",
      "X3 shape: (100,13)\n",
      "y3 shape: (100,1)\n",
      "----------------------------------------------------------------------------------------\n",
      "----------------------------------------------------------------------------------------\n",
      "X4 shape: (104,13)\n",
      "y4 shape: (104,1)\n",
      "----------------------------------------------------------------------------------------\n",
      "             MEDV\n",
      "count  506.000000\n",
      "mean    22.532806\n",
      "std      9.197104\n",
      "min      5.000000\n",
      "25%     17.025000\n",
      "50%     21.200000\n",
      "75%     25.000000\n",
      "max     50.000000\n",
      "----------------------------------------------------------------------------------------\n",
      "      CRIM    ZN  INDUS  CHAS    NOX     RM   AGE     DIS  RAD    TAX  \\\n",
      "0  0.00632  18.0   2.31   0.0  0.538  6.575  65.2  4.0900  1.0  296.0   \n",
      "1  0.02731   0.0   7.07   0.0  0.469  6.421  78.9  4.9671  2.0  242.0   \n",
      "2  0.02729   0.0   7.07   0.0  0.469  7.185  61.1  4.9671  2.0  242.0   \n",
      "3  0.03237   0.0   2.18   0.0  0.458  6.998  45.8  6.0622  3.0  222.0   \n",
      "4  0.06905   0.0   2.18   0.0  0.458  7.147  54.2  6.0622  3.0  222.0   \n",
      "\n",
      "   PTRATIO       B  LSTAT  MEDV  \n",
      "0     15.3  396.90   4.98  24.0  \n",
      "1     17.8  396.90   9.14  21.6  \n",
      "2     17.8  392.83   4.03  34.7  \n",
      "3     18.7  394.63   2.94  33.4  \n",
      "4     18.7  396.90   5.33  36.2  \n",
      "----------------------------------------------------------------------------------------\n",
      "Boston House Prices dataset\n",
      "===========================\n",
      "\n",
      "Notes\n",
      "------\n",
      "Data Set Characteristics:  \n",
      "\n",
      "    :Number of Instances: 506 \n",
      "\n",
      "    :Number of Attributes: 13 numeric/categorical predictive\n",
      "    \n",
      "    :Median Value (attribute 14) is usually the target\n",
      "\n",
      "    :Attribute Information (in order):\n",
      "        - CRIM     per capita crime rate by town\n",
      "        - ZN       proportion of residential land zoned for lots over 25,000 sq.ft.\n",
      "        - INDUS    proportion of non-retail business acres per town\n",
      "        - CHAS     Charles River dummy variable (= 1 if tract bounds river; 0 otherwise)\n",
      "        - NOX      nitric oxides concentration (parts per 10 million)\n",
      "        - RM       average number of rooms per dwelling\n",
      "        - AGE      proportion of owner-occupied units built prior to 1940\n",
      "        - DIS      weighted distances to five Boston employment centres\n",
      "        - RAD      index of accessibility to radial highways\n",
      "        - TAX      full-value property-tax rate per $10,000\n",
      "        - PTRATIO  pupil-teacher ratio by town\n",
      "        - B        1000(Bk - 0.63)^2 where Bk is the proportion of blacks by town\n",
      "        - LSTAT    % lower status of the population\n",
      "        - MEDV     Median value of owner-occupied homes in $1000's\n",
      "\n",
      "    :Missing Attribute Values: None\n",
      "\n",
      "    :Creator: Harrison, D. and Rubinfeld, D.L.\n",
      "\n",
      "This is a copy of UCI ML housing dataset.\n",
      "http://archive.ics.uci.edu/ml/datasets/Housing\n",
      "\n",
      "\n",
      "This dataset was taken from the StatLib library which is maintained at Carnegie Mellon University.\n",
      "\n",
      "The Boston house-price data of Harrison, D. and Rubinfeld, D.L. 'Hedonic\n",
      "prices and the demand for clean air', J. Environ. Economics & Management,\n",
      "vol.5, 81-102, 1978.   Used in Belsley, Kuh & Welsch, 'Regression diagnostics\n",
      "...', Wiley, 1980.   N.B. Various transformations are used in the table on\n",
      "pages 244-261 of the latter.\n",
      "\n",
      "The Boston house-price data has been used in many machine learning papers that address regression\n",
      "problems.   \n",
      "     \n",
      "**References**\n",
      "\n",
      "   - Belsley, Kuh & Welsch, 'Regression diagnostics: Identifying Influential Data and Sources of Collinearity', Wiley, 1980. 244-261.\n",
      "   - Quinlan,R. (1993). Combining Instance-Based and Model-Based Learning. In Proceedings on the Tenth International Conference of Machine Learning, 236-243, University of Massachusetts, Amherst. Morgan Kaufmann.\n",
      "   - many more! (see http://archive.ics.uci.edu/ml/datasets/Housing)\n",
      "\n"
     ]
    }
   ],
   "source": [
    "# import the boston house-prices datase for regression\n",
    "import pandas as pd\n",
    "import numpy as np\n",
    "from sklearn.datasets import load_boston\n",
    "dataset = load_boston()\n",
    "from sklearn.model_selection import train_test_split\n",
    "\n",
    "# set dataframe\n",
    "X = pd.DataFrame(dataset.data, columns=dataset.feature_names)\n",
    "y = pd.DataFrame(dataset.target, columns=['MEDV'])\n",
    "\n",
    "# 交差検証(holdout)\n",
    "X_train, X_test, y_train, y_test = train_test_split(X, y, test_size=0.20, random_state=42)\n",
    "\n",
    "\n",
    "#データセットを5つに分ける\n",
    "X1 = X_train.iloc[:100,:]\n",
    "y1 = y_train.iloc[:100,:]\n",
    "X2 = X_train.iloc[100:200,:]\n",
    "y2 = y_train.iloc[100:200,:]\n",
    "X3 = X_train.iloc[200:300,:]\n",
    "y3 = y_train.iloc[200:300,:]\n",
    "X4 = X_train.iloc[300:,:]\n",
    "y4 = y_train.iloc[300:,:]\n",
    "\n",
    "# check the shape\n",
    "print('----------------------------------------------------------------------------------------')\n",
    "print('X shape: (%i,%i)' %X.shape)\n",
    "print('y shape: (%i,%i)' %y.shape)\n",
    "print('----------------------------------------------------------------------------------------')\n",
    "print('X1 shape: (%i,%i)' %X1.shape)\n",
    "print('y1 shape: (%i,%i)' %y1.shape)\n",
    "print('----------------------------------------------------------------------------------------')\n",
    "print('X2 shape: (%i,%i)' %X2.shape)\n",
    "print('y2 shape: (%i,%i)' %y2.shape)\n",
    "print('----------------------------------------------------------------------------------------')\n",
    "print('----------------------------------------------------------------------------------------')\n",
    "print('X3 shape: (%i,%i)' %X3.shape)\n",
    "print('y3 shape: (%i,%i)' %y3.shape)\n",
    "print('----------------------------------------------------------------------------------------')\n",
    "print('----------------------------------------------------------------------------------------')\n",
    "print('X4 shape: (%i,%i)' %X4.shape)\n",
    "print('y4 shape: (%i,%i)' %y4.shape)\n",
    "\n",
    "print('----------------------------------------------------------------------------------------')\n",
    "print(y.describe())\n",
    "print('----------------------------------------------------------------------------------------')\n",
    "print(X.join(y).head())\n",
    "print('----------------------------------------------------------------------------------------')\n",
    "print(dataset.DESCR)\n"
   ]
  },
  {
   "cell_type": "code",
   "execution_count": 3,
   "metadata": {},
   "outputs": [
    {
     "name": "stdout",
     "output_type": "stream",
     "text": [
      "R2 score of the descriptive model: 0.547\n"
     ]
    }
   ],
   "source": [
    "# import libraries\n",
    "from skgarden.mondrian.ensemble import MondrianForestRegressor\n",
    "\n",
    "\n",
    "# build the model\n",
    "mfr = MondrianForestRegressor()\n",
    "mfr.fit(X1,y1.as_matrix().ravel())\n",
    "\n",
    "# check the model performance by R2 socre\n",
    "from sklearn.metrics import r2_score\n",
    "y1_true = y_test.as_matrix().ravel()\n",
    "y1_pred = mfr.predict(X_test)\n",
    "r2 = r2_score(y1_true, y1_pred)\n",
    "print('R2 score of the descriptive model: %.3f' % r2)"
   ]
  },
  {
   "cell_type": "markdown",
   "metadata": {},
   "source": [
    "とりあえず、sklearnと同じ形で動作することは確認できた。\n",
    "ここから果たしてupdateできるのかという実験"
   ]
  },
  {
   "cell_type": "code",
   "execution_count": 4,
   "metadata": {},
   "outputs": [
    {
     "name": "stdout",
     "output_type": "stream",
     "text": [
      "R2 score of the descriptive model: 0.405\n"
     ]
    }
   ],
   "source": [
    "mfr.partial_fit(X2,y2.as_matrix().ravel())\n",
    "\n",
    "from sklearn.metrics import r2_score\n",
    "y2_true = y_test.as_matrix().ravel()\n",
    "y2_pred = mfr.predict(X_test)\n",
    "r2 = r2_score(y2_true, y2_pred)\n",
    "print('R2 score of the descriptive model: %.3f' % r2)"
   ]
  },
  {
   "cell_type": "code",
   "execution_count": 5,
   "metadata": {},
   "outputs": [
    {
     "name": "stdout",
     "output_type": "stream",
     "text": [
      "R2 score of the descriptive model: 0.528\n"
     ]
    }
   ],
   "source": [
    "mfr.partial_fit(X3,y3.as_matrix().ravel())\n",
    "\n",
    "from sklearn.metrics import r2_score\n",
    "y3_true = y_test.as_matrix().ravel()\n",
    "y3_pred = mfr.predict(X_test)\n",
    "r2 = r2_score(y3_true, y3_pred)\n",
    "print('R2 score of the descriptive model: %.3f' % r2)"
   ]
  },
  {
   "cell_type": "code",
   "execution_count": 6,
   "metadata": {},
   "outputs": [
    {
     "name": "stdout",
     "output_type": "stream",
     "text": [
      "R2 score of the descriptive model: 0.618\n"
     ]
    }
   ],
   "source": [
    "mfr.partial_fit(X4,y4.as_matrix().ravel())\n",
    "\n",
    "from sklearn.metrics import r2_score\n",
    "y4_true = y_test.as_matrix().ravel()\n",
    "y4_pred = mfr.predict(X_test)\n",
    "r2 = r2_score(y4_true, y4_pred)\n",
    "print('R2 score of the descriptive model: %.3f' % r2)"
   ]
  },
  {
   "cell_type": "code",
   "execution_count": 7,
   "metadata": {},
   "outputs": [
    {
     "name": "stdout",
     "output_type": "stream",
     "text": [
      "R2 score of the descriptive model: 0.640\n"
     ]
    }
   ],
   "source": [
    "#全体でやってみる。\n",
    "mfr2 = MondrianForestRegressor()\n",
    "mfr2.fit(X_train,y_train.as_matrix().ravel())\n",
    "\n",
    "from sklearn.metrics import r2_score\n",
    "y_true = y_test.as_matrix().ravel()\n",
    "y_pred = mfr2.predict(X_test)\n",
    "r2 = r2_score(y_true, y_pred)\n",
    "print('R2 score of the descriptive model: %.3f' % r2)"
   ]
  },
  {
   "cell_type": "markdown",
   "metadata": {},
   "source": [
    "徐々にスコアが上がることを確認できた。\n",
    "とりあえず、このテストでは合格かと。"
   ]
  },
  {
   "cell_type": "code",
   "execution_count": 8,
   "metadata": {
    "scrolled": true
   },
   "outputs": [
    {
     "name": "stdout",
     "output_type": "stream",
     "text": [
      "R2 score of the RandomForest model: 0.865\n",
      "R2 score of the GradientBoosting model: 0.910\n"
     ]
    }
   ],
   "source": [
    "#RandomForestとGradientBoostingと比べる。\n",
    "from sklearn.ensemble import RandomForestRegressor, GradientBoostingRegressor\n",
    "\n",
    "rfr = RandomForestRegressor()\n",
    "gbr = GradientBoostingRegressor()\n",
    "\n",
    "rfr.fit(X_train,y_train.as_matrix().ravel())\n",
    "gbr.fit(X_train,y_train.as_matrix().ravel())\n",
    "\n",
    "r2r = r2_score(y_test.as_matrix().ravel(), rfr.predict(X_test))\n",
    "print('R2 score of the RandomForest model: %.3f' % r2r)\n",
    "r2g = r2_score(y_test.as_matrix().ravel(), gbr.predict(X_test))\n",
    "print('R2 score of the GradientBoosting model: %.3f' % r2g)"
   ]
  },
  {
   "cell_type": "markdown",
   "metadata": {},
   "source": [
    "データ数が少ないのでなんとも言えないが、懸念は精度が低い可能性がある。\n",
    "少なくともデータ数が少ないと思ったより精度がでない。"
   ]
  },
  {
   "cell_type": "markdown",
   "metadata": {},
   "source": [
    "#　変数重要度を出せるかどうか。\n",
    "MondrianForestRegressorはsklearnのForestRegressorと、BaseMondrianのクラスを継承してるので、ForestRegresssorに変数重要度の奴があるはず。"
   ]
  },
  {
   "cell_type": "code",
   "execution_count": 11,
   "metadata": {},
   "outputs": [
    {
     "data": {
      "image/png": "[encoded data removed]",
      "text/plain": [
       "<matplotlib.figure.Figure at 0x11d3ba5c0>"
      ]
     },
     "metadata": {},
     "output_type": "display_data"
    }
   ],
   "source": [
    "import matplotlib.pyplot as plt\n",
    "def plot_feature_importances_dataset(model):\n",
    "    n_features = dataset.data.shape[1]\n",
    "    plt.barh(range(n_features), model.feature_importances_,align='center')\n",
    "    plt.yticks(np.arange(n_features),dataset.feature_names)\n",
    "    plt.xlabel('Feature importance')\n",
    "    plt.ylabel('Feature')\n",
    "\n",
    "#動作テスト\n",
    "plot_feature_importances_dataset(rfr)\n",
    "#plot_feature_importances_dataset(mfr)"
   ]
  },
  {
   "cell_type": "markdown",
   "metadata": {},
   "source": [
    "feature_importances_がないみたい。"
   ]
  }
 ],
 "metadata": {
  "kernelspec": {
   "display_name": "Python 3",
   "language": "python",
   "name": "python3"
  },
  "language_info": {
   "codemirror_mode": {
    "name": "ipython",
    "version": 3
   },
   "file_extension": ".py",
   "mimetype": "text/x-python",
   "name": "python",
   "nbconvert_exporter": "python",
   "pygments_lexer": "ipython3",
   "version": "3.6.4"
  }
 },
 "nbformat": 4,
 "nbformat_minor": 2
}
