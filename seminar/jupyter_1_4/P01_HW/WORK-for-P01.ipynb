{
 "cells": [
  {
   "cell_type": "markdown",
   "metadata": {},
   "source": [
    "# WORK for P01"
   ]
  },
  {
   "cell_type": "markdown",
   "metadata": {},
   "source": [
    "ynagae editted, /11/2017"
   ]
  },
  {
   "cell_type": "markdown",
   "metadata": {},
   "source": [
    "## [Work-1]\n",
    "以下に対し簡潔に答えて下さい。\n",
    "- 機械学習とは何か？\n",
    "- 機械学習を分類するとどうなるか？\n",
    "- 教師あり学習と教師なし学習の違いは何か？\n",
    "- 精度の高いモデル構築には何が大切か？\n",
    "- AML（Automated Machine Learning）とはどのようなものか？\n",
    "- Pythonでデータ読込やデータフレーム処理を担うライブラリは何か？\n",
    "- 特徴量とは何か、正解データとは何か？"
   ]
  },
  {
   "cell_type": "markdown",
   "metadata": {},
   "source": [
    "答えはこちらに。\n"
   ]
  }
 ],
 "metadata": {
  "kernelspec": {
   "display_name": "Python 3",
   "language": "python",
   "name": "python3"
  },
  "language_info": {
   "codemirror_mode": {
    "name": "ipython",
    "version": 3
   },
   "file_extension": ".py",
   "mimetype": "text/x-python",
   "name": "python",
   "nbconvert_exporter": "python",
   "pygments_lexer": "ipython3",
   "version": "3.6.3"
  }
 },
 "nbformat": 4,
 "nbformat_minor": 2
}
