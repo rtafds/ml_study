{
 "cells": [
  {
   "cell_type": "markdown",
   "metadata": {},
   "source": [
    "# dumpのテスト　\n",
    "\n",
    "http://archive.ics.uci.edu/ml/index.php　\n",
    "から、落として来た、Physicochemical Properties of Protein Tertiary Structure Data Set\n",
    "(タンパク質の三次構造データセットの物理化学的性質)\n",
    "というものを使って見る。\n",
    "特徴量は9こで、\n",
    "F1 - 総表面積。\n",
    "F2 - 非極性露出領域。\n",
    "F3 - 露出した非極性残留物の部分面積。\n",
    "F4 - 残渣の露出した非極性部分の小面積。\n",
    "F5 - 分子量加重露出面積。\n",
    "F6 - 残留物の標準露出面積からの平均偏差。\n",
    "F7 - ユークリッド距離。\n",
    "F8 - 二次構造ペナルティ。\n",
    "F9 - 空間分布制約（N、K値）。\n",
    "\n",
    "求めたいのは、\n",
    "RMSD-残渣のサイズ。(Size of the residue.)(値は0~21)\n",
    "欠損値はなし、F8は整数値で他は少数値。"
   ]
  },
  {
   "cell_type": "code",
   "execution_count": 2,
   "metadata": {},
   "outputs": [
    {
     "name": "stdout",
     "output_type": "stream",
     "text": [
      "----------------------------------------------------------------------------------------\n",
      "Raw shape: (45730,10)\n",
      "X shape: (45730,9)\n",
      "y shape: (45730,1)\n",
      "----------------------------------------------------------------------------------------\n",
      "F1    float64\n",
      "F2    float64\n",
      "F3    float64\n",
      "F4    float64\n",
      "F5    float64\n",
      "F6    float64\n",
      "F7    float64\n",
      "F8      int64\n",
      "F9    float64\n",
      "dtype: object\n",
      "----------------------------------------------------------------------------------------\n",
      "Check the null count of the target variable: 0\n",
      "----------------------------------------------------------------------------------------\n",
      "----------------------------------------------------------------------------------------\n",
      "     RMSD\n",
      "0  17.284\n",
      "1   6.021\n",
      "2   9.275\n",
      "3  15.851\n",
      "4   7.962\n"
     ]
    },
    {
     "data": {
      "text/html": [
       "<div>\n",
       "<style scoped>\n",
       "    .dataframe tbody tr th:only-of-type {\n",
       "        vertical-align: middle;\n",
       "    }\n",
       "\n",
       "    .dataframe tbody tr th {\n",
       "        vertical-align: top;\n",
       "    }\n",
       "\n",
       "    .dataframe thead th {\n",
       "        text-align: right;\n",
       "    }\n",
       "</style>\n",
       "<table border=\"1\" class=\"dataframe\">\n",
       "  <thead>\n",
       "    <tr style=\"text-align: right;\">\n",
       "      <th></th>\n",
       "      <th>F1</th>\n",
       "      <th>F2</th>\n",
       "      <th>F3</th>\n",
       "      <th>F4</th>\n",
       "      <th>F5</th>\n",
       "      <th>F6</th>\n",
       "      <th>F7</th>\n",
       "      <th>F8</th>\n",
       "      <th>F9</th>\n",
       "    </tr>\n",
       "  </thead>\n",
       "  <tbody>\n",
       "    <tr>\n",
       "      <th>0</th>\n",
       "      <td>13558.30</td>\n",
       "      <td>4305.35</td>\n",
       "      <td>0.31754</td>\n",
       "      <td>162.1730</td>\n",
       "      <td>1.872791e+06</td>\n",
       "      <td>215.3590</td>\n",
       "      <td>4287.87</td>\n",
       "      <td>102</td>\n",
       "      <td>27.0302</td>\n",
       "    </tr>\n",
       "    <tr>\n",
       "      <th>1</th>\n",
       "      <td>6191.96</td>\n",
       "      <td>1623.16</td>\n",
       "      <td>0.26213</td>\n",
       "      <td>53.3894</td>\n",
       "      <td>8.034467e+05</td>\n",
       "      <td>87.2024</td>\n",
       "      <td>3328.91</td>\n",
       "      <td>39</td>\n",
       "      <td>38.5468</td>\n",
       "    </tr>\n",
       "    <tr>\n",
       "      <th>2</th>\n",
       "      <td>7725.98</td>\n",
       "      <td>1726.28</td>\n",
       "      <td>0.22343</td>\n",
       "      <td>67.2887</td>\n",
       "      <td>1.075648e+06</td>\n",
       "      <td>81.7913</td>\n",
       "      <td>2981.04</td>\n",
       "      <td>29</td>\n",
       "      <td>38.8119</td>\n",
       "    </tr>\n",
       "    <tr>\n",
       "      <th>3</th>\n",
       "      <td>8424.58</td>\n",
       "      <td>2368.25</td>\n",
       "      <td>0.28111</td>\n",
       "      <td>67.8325</td>\n",
       "      <td>1.210472e+06</td>\n",
       "      <td>109.4390</td>\n",
       "      <td>3248.22</td>\n",
       "      <td>70</td>\n",
       "      <td>39.0651</td>\n",
       "    </tr>\n",
       "    <tr>\n",
       "      <th>4</th>\n",
       "      <td>7460.84</td>\n",
       "      <td>1736.94</td>\n",
       "      <td>0.23280</td>\n",
       "      <td>52.4123</td>\n",
       "      <td>1.021020e+06</td>\n",
       "      <td>94.5234</td>\n",
       "      <td>2814.42</td>\n",
       "      <td>41</td>\n",
       "      <td>39.9147</td>\n",
       "    </tr>\n",
       "  </tbody>\n",
       "</table>\n",
       "</div>"
      ],
      "text/plain": [
       "         F1       F2       F3        F4            F5        F6       F7   F8  \\\n",
       "0  13558.30  4305.35  0.31754  162.1730  1.872791e+06  215.3590  4287.87  102   \n",
       "1   6191.96  1623.16  0.26213   53.3894  8.034467e+05   87.2024  3328.91   39   \n",
       "2   7725.98  1726.28  0.22343   67.2887  1.075648e+06   81.7913  2981.04   29   \n",
       "3   8424.58  2368.25  0.28111   67.8325  1.210472e+06  109.4390  3248.22   70   \n",
       "4   7460.84  1736.94  0.23280   52.4123  1.021020e+06   94.5234  2814.42   41   \n",
       "\n",
       "        F9  \n",
       "0  27.0302  \n",
       "1  38.5468  \n",
       "2  38.8119  \n",
       "3  39.0651  \n",
       "4  39.9147  "
      ]
     },
     "execution_count": 2,
     "metadata": {},
     "output_type": "execute_result"
    }
   ],
   "source": [
    "\n",
    "import pandas as pd\n",
    "import numpy as np\n",
    "\n",
    "df = pd.read_csv('CASP.csv', header=0, )\n",
    "\n",
    "#一列目がy\n",
    "\n",
    "\n",
    "X = df.iloc[:,1:]\n",
    "y = df.iloc[:,[0]]\n",
    "\n",
    "#check the shape\n",
    "print('----------------------------------------------------------------------------------------')\n",
    "print('Raw shape: (%i,%i)' %df.shape)\n",
    "print('X shape: (%i,%i)' %X.shape)\n",
    "print('y shape: (%i,%i)' %y.shape)\n",
    "print('----------------------------------------------------------------------------------------')\n",
    "print(X.dtypes)\n",
    "print('----------------------------------------------------------------------------------------')\n",
    "print('Check the null count of the target variable: %i' % y.isnull().sum())\n",
    "print('----------------------------------------------------------------------------------------')\n",
    "\n",
    "print('----------------------------------------------------------------------------------------')\n",
    "\n",
    "print(y.head())\n",
    "X.head()"
   ]
  },
  {
   "cell_type": "code",
   "execution_count": 3,
   "metadata": {},
   "outputs": [],
   "source": [
    "# import basice apis\n",
    "import numpy as np\n",
    "import pandas as pd\n",
    "from sklearn.preprocessing import StandardScaler\n",
    "from sklearn.neighbors import KNeighborsRegressor\n",
    "from sklearn.linear_model import LinearRegression, Ridge\n",
    "from sklearn.ensemble import RandomForestRegressor, GradientBoostingRegressor\n",
    "from sklearn.pipeline import Pipeline\n",
    "from sklearn.model_selection import train_test_split\n",
    "from sklearn.metrics import r2_score\n",
    "from skgarden.mondrian.ensemble import MondrianForestRegressor\n",
    "\n",
    "# Holdout\n",
    "X_train,X_test,y_train,y_test = train_test_split(X,y,test_size=0.20, random_state=1)\n",
    "\n",
    "# data Standardization\n",
    "scaler = StandardScaler()\n",
    "scaler.fit(X_train)\n",
    "X_train_scl = scaler.transform(X_train)\n",
    "X_test_scl = scaler.transform(X_test)\n",
    "\n",
    "#set learning machine\n",
    "knr = KNeighborsRegressor()\n",
    "lir = LinearRegression()\n",
    "rid = Ridge()\n",
    "rfr = RandomForestRegressor(random_state=42)\n",
    "gbr = GradientBoostingRegressor(random_state=42)\n",
    "mfr = MondrianForestRegressor()\n",
    "mfr_p = MondrianForestRegressor()"
   ]
  },
  {
   "cell_type": "markdown",
   "metadata": {},
   "source": [
    "dumpして読み込めるかができるかのテストを行う。\n",
    "fit→dump→読み込み→partil_fit→・・・は一番下"
   ]
  },
  {
   "cell_type": "code",
   "execution_count": 4,
   "metadata": {},
   "outputs": [
    {
     "name": "stdout",
     "output_type": "stream",
     "text": [
      "end\n"
     ]
    }
   ],
   "source": [
    "#とりあえず全部fitさせてみる\n",
    "\n",
    "apis = [knr, lir, rid, rfr, gbr, mfr]\n",
    "for api in apis:\n",
    "    api.fit(X_train_scl, y_train.as_matrix().ravel())\n",
    "    \n",
    "#また、Mondrianのpartial_fit(batchだが)もやってみる\n",
    "mfr_p.partial_fit(X_train_scl, y_train.as_matrix().ravel())\n",
    "print('end')"
   ]
  },
  {
   "cell_type": "code",
   "execution_count": 5,
   "metadata": {},
   "outputs": [
    {
     "name": "stdout",
     "output_type": "stream",
     "text": [
      "[ 7.984   2.8659  8.4859 ... 14.1199  1.4481 13.3344]\n"
     ]
    },
    {
     "data": {
      "text/plain": [
       "['rfr.pkl']"
      ]
     },
     "execution_count": 5,
     "metadata": {},
     "output_type": "execute_result"
    }
   ],
   "source": [
    "#dumpして再読み込みのテストとりあえずRandomForestでできるか\n",
    "\n",
    "from sklearn.externals import joblib\n",
    "\n",
    "print(rfr.predict(X_test_scl))\n",
    "joblib.dump(rfr, 'rfr.pkl')"
   ]
  },
  {
   "cell_type": "code",
   "execution_count": 6,
   "metadata": {},
   "outputs": [
    {
     "name": "stdout",
     "output_type": "stream",
     "text": [
      "[ 7.984   2.8659  8.4859 ... 14.1199  1.4481 13.3344]\n"
     ]
    }
   ],
   "source": [
    "rfr_re = joblib.load('rfr.pkl')\n",
    "print(rfr_re.predict(X_test_scl))"
   ]
  },
  {
   "cell_type": "code",
   "execution_count": 7,
   "metadata": {},
   "outputs": [
    {
     "name": "stdout",
     "output_type": "stream",
     "text": [
      "[ 5.28076758  2.9557816  10.25956306 ... 10.35358653  1.85576398\n",
      "  9.72776637]\n",
      "[ 6.7380075   2.12987145 10.11324434 ... 12.37635136  1.73983341\n",
      " 12.33106923]\n"
     ]
    },
    {
     "data": {
      "text/plain": [
       "['mfr_p.pkl']"
      ]
     },
     "execution_count": 7,
     "metadata": {},
     "output_type": "execute_result"
    }
   ],
   "source": [
    "#Mondrainはどうか\n",
    "print(mfr.predict(X_test_scl))\n",
    "print(mfr_p.predict(X_test_scl))\n",
    "\n",
    "joblib.dump(mfr, 'mfr.pkl')\n",
    "joblib.dump(mfr_p, 'mfr_p.pkl')"
   ]
  },
  {
   "cell_type": "code",
   "execution_count": 7,
   "metadata": {},
   "outputs": [],
   "source": [
    "#実行するとエラーが出て、karnel is died\n",
    "\n",
    "#mfr_re = joblib.load('mfr.pkl')\n",
    "#mfr_p_re = joblib.load('mfr_p.pkl')\n",
    "\n",
    "#mfr_re.predict(X_test_scl)\n",
    "#mfr_p_re.predict(X_test_scl)"
   ]
  },
  {
   "cell_type": "code",
   "execution_count": 8,
   "metadata": {},
   "outputs": [],
   "source": [
    "#別のdumpでも試す。\n",
    "\n",
    "import pickle\n",
    "with open('rfr.pickle', 'wb') as f:\n",
    "    pickle.dump(rfr, f)"
   ]
  },
  {
   "cell_type": "code",
   "execution_count": 9,
   "metadata": {},
   "outputs": [
    {
     "data": {
      "text/plain": [
       "array([ 7.984 ,  2.8659,  8.4859, ..., 14.1199,  1.4481, 13.3344])"
      ]
     },
     "execution_count": 9,
     "metadata": {},
     "output_type": "execute_result"
    }
   ],
   "source": [
    "with open('rfr.pickle', 'rb') as f:\n",
    "    rfr_re2 = pickle.load(f)\n",
    "rfr_re2.predict(X_test_scl)\n",
    "\n",
    "#確かに保存されている。"
   ]
  },
  {
   "cell_type": "code",
   "execution_count": 10,
   "metadata": {},
   "outputs": [],
   "source": [
    "import pickle\n",
    "with open('mfr.pickle', 'wb') as f:\n",
    "    pickle.dump(mfr, f)\n",
    "with open('mfr_p.pickle', 'wb') as f:\n",
    "    pickle.dump(mfr_p, f)"
   ]
  },
  {
   "cell_type": "code",
   "execution_count": 11,
   "metadata": {},
   "outputs": [
    {
     "data": {
      "text/plain": [
       "array([ 6.7380075 ,  2.12987145, 10.11324434, ..., 12.37635136,\n",
       "        1.73983341, 12.33106923])"
      ]
     },
     "execution_count": 11,
     "metadata": {},
     "output_type": "execute_result"
    }
   ],
   "source": [
    "with open('mfr.pickle', 'rb') as f:\n",
    "    mfr_re2 = pickle.load(f)\n",
    "with open('mfr_p.pickle', 'rb') as f:\n",
    "    mfr_p_re2 = pickle.load(f)\n",
    "mfr_re2.predict(X_test_scl)\n",
    "mfr_p_re2.predict(X_test_scl)"
   ]
  },
  {
   "cell_type": "markdown",
   "metadata": {},
   "source": [
    "joblibでできなかったが、なぜかpickleの方ではできた。\n",
    "partial_fitで保存されていくか、確認する。\n",
    "ちょっと順番でやっていく"
   ]
  },
  {
   "cell_type": "code",
   "execution_count": 12,
   "metadata": {},
   "outputs": [
    {
     "data": {
      "text/plain": [
       "0.5000674166985366"
      ]
     },
     "execution_count": 12,
     "metadata": {},
     "output_type": "execute_result"
    }
   ],
   "source": [
    "from skgarden.mondrian.ensemble import MondrianForestRegressor\n",
    "from sklearn.metrics import r2_score\n",
    "\n",
    "mfr_x = MondrianForestRegressor()\n",
    "mfr_x.partial_fit(X_train_scl[:5000,:], y_train[:5000].as_matrix().ravel())\n",
    "r2_score(y_test.as_matrix().ravel(), mfr_x.predict(X_test_scl))"
   ]
  },
  {
   "cell_type": "code",
   "execution_count": 13,
   "metadata": {},
   "outputs": [
    {
     "data": {
      "text/plain": [
       "0.5000674166985366"
      ]
     },
     "execution_count": 13,
     "metadata": {},
     "output_type": "execute_result"
    }
   ],
   "source": [
    "import pickle\n",
    "with open('mfr_x1.pickle', 'wb') as f:\n",
    "    pickle.dump(mfr_x, f)\n",
    "with open('mfr_x1.pickle', 'rb') as f:\n",
    "    mfr_x1 = pickle.load(f)\n",
    "r2_score(y_test.as_matrix().ravel(), mfr_x1.predict(X_test_scl))\n",
    "\n",
    "#ロードできてると思われる。"
   ]
  },
  {
   "cell_type": "code",
   "execution_count": 14,
   "metadata": {},
   "outputs": [
    {
     "data": {
      "text/plain": [
       "0.5374112284544452"
      ]
     },
     "execution_count": 14,
     "metadata": {},
     "output_type": "execute_result"
    }
   ],
   "source": [
    "mfr_x.partial_fit(X_train_scl[5000:10000,:], y_train[5000:10000].as_matrix().ravel())\n",
    "r2_score(y_test.as_matrix().ravel(), mfr_x.predict(X_test_scl))"
   ]
  },
  {
   "cell_type": "code",
   "execution_count": 15,
   "metadata": {},
   "outputs": [
    {
     "data": {
      "text/plain": [
       "0.5374112284544452"
      ]
     },
     "execution_count": 15,
     "metadata": {},
     "output_type": "execute_result"
    }
   ],
   "source": [
    "import pickle\n",
    "with open('mfr_x2.pickle', 'wb') as f:\n",
    "    pickle.dump(mfr_x, f)\n",
    "with open('mfr_x2.pickle', 'rb') as f:\n",
    "    mfr_x2 = pickle.load(f)\n",
    "r2_score(y_test.as_matrix().ravel(), mfr_x2.predict(X_test_scl))\n",
    "#ロードできてると思われる。"
   ]
  },
  {
   "cell_type": "code",
   "execution_count": 16,
   "metadata": {},
   "outputs": [
    {
     "data": {
      "text/plain": [
       "0.5713539032633672"
      ]
     },
     "execution_count": 16,
     "metadata": {},
     "output_type": "execute_result"
    }
   ],
   "source": [
    "mfr_x.partial_fit(X_train_scl[10000:15000,:], y_train[10000:15000].as_matrix().ravel())\n",
    "r2_score(y_test.as_matrix().ravel(), mfr_x.predict(X_test_scl))\n"
   ]
  },
  {
   "cell_type": "code",
   "execution_count": 17,
   "metadata": {},
   "outputs": [
    {
     "data": {
      "text/plain": [
       "0.5713539032633672"
      ]
     },
     "execution_count": 17,
     "metadata": {},
     "output_type": "execute_result"
    }
   ],
   "source": [
    "import pickle\n",
    "with open('mfr_x3.pickle', 'wb') as f:\n",
    "    pickle.dump(mfr_x, f)\n",
    "with open('mfr_x3.pickle', 'rb') as f:\n",
    "    mfr_x3 = pickle.load(f)\n",
    "r2_score(y_test.as_matrix().ravel(), mfr_x3.predict(X_test_scl))\n",
    "#ロードできてると思われる。"
   ]
  },
  {
   "cell_type": "code",
   "execution_count": 18,
   "metadata": {},
   "outputs": [
    {
     "data": {
      "text/plain": [
       "0.6341124918534603"
      ]
     },
     "execution_count": 18,
     "metadata": {},
     "output_type": "execute_result"
    }
   ],
   "source": [
    "#全部\n",
    "mfr_x.partial_fit(X_train_scl[15000:,:], y_train[15000:].as_matrix().ravel())\n",
    "r2_score(y_test.as_matrix().ravel(), mfr_x.predict(X_test_scl))"
   ]
  },
  {
   "cell_type": "code",
   "execution_count": 19,
   "metadata": {},
   "outputs": [
    {
     "data": {
      "text/plain": [
       "0.6341124918534603"
      ]
     },
     "execution_count": 19,
     "metadata": {},
     "output_type": "execute_result"
    }
   ],
   "source": [
    "import pickle\n",
    "with open('mfr_x4.pickle', 'wb') as f:\n",
    "    pickle.dump(mfr_x, f)\n",
    "with open('mfr_x4.pickle', 'rb') as f:\n",
    "    mfr_x4 = pickle.load(f)\n",
    "r2_score(y_test.as_matrix().ravel(), mfr_x4.predict(X_test_scl))\n",
    "#ロードできてると思われる。"
   ]
  },
  {
   "cell_type": "code",
   "execution_count": 20,
   "metadata": {},
   "outputs": [
    {
     "data": {
      "text/plain": [
       "0.6275164362884542"
      ]
     },
     "execution_count": 20,
     "metadata": {},
     "output_type": "execute_result"
    }
   ],
   "source": [
    "#一気にやってみる。\n",
    "mfr_xx = MondrianForestRegressor()\n",
    "mfr_xx.partial_fit(X_train_scl, y_train.as_matrix().ravel())\n",
    "r2_score(y_test.as_matrix().ravel(), mfr_xx.predict(X_test_scl))"
   ]
  },
  {
   "cell_type": "code",
   "execution_count": 21,
   "metadata": {},
   "outputs": [
    {
     "name": "stdout",
     "output_type": "stream",
     "text": [
      "0.49950114319175987\n",
      "0.5359827095399881\n",
      "0.5710401102593126\n",
      "0.6341124918534603\n"
     ]
    }
   ],
   "source": [
    "#全部もう一回ロードしてみる。\n",
    "with open('mfr_x1.pickle', 'rb') as f:\n",
    "    mfr_test1 = pickle.load(f)\n",
    "with open('mfr_x2.pickle', 'rb') as f:\n",
    "    mfr_test2 = pickle.load(f)\n",
    "with open('mfr_x3.pickle', 'rb') as f:\n",
    "    mfr_test3 = pickle.load(f)\n",
    "with open('mfr_x4.pickle', 'rb') as f:\n",
    "    mfr_test4 = pickle.load(f)\n",
    "\n",
    "print(r2_score(y_test.as_matrix().ravel(), mfr_test1.predict(X_test_scl)))\n",
    "print(r2_score(y_test.as_matrix().ravel(), mfr_test2.predict(X_test_scl)))\n",
    "print(r2_score(y_test.as_matrix().ravel(), mfr_test3.predict(X_test_scl)))\n",
    "print(r2_score(y_test.as_matrix().ravel(), mfr_test4.predict(X_test_scl)))\n"
   ]
  },
  {
   "cell_type": "markdown",
   "metadata": {},
   "source": [
    "やっぱり、pickleではできる気がする。\n",
    "次に、保存→読み込み\n",
    "partial_fitしてpredict\n",
    "再度保存ができるかをチェック"
   ]
  },
  {
   "cell_type": "code",
   "execution_count": 22,
   "metadata": {},
   "outputs": [
    {
     "name": "stdout",
     "output_type": "stream",
     "text": [
      "0.49204630894836754\n"
     ]
    }
   ],
   "source": [
    "#再定義して学習\n",
    "mfr_xx = MondrianForestRegressor()\n",
    "mfr_xx.partial_fit(X_train_scl[:5000,:], y_train[:5000].as_matrix().ravel())\n",
    "print(r2_score(y_test.as_matrix().ravel(), mfr_xx.predict(X_test_scl)))\n",
    "\n",
    "#保存する\n",
    "import pickle\n",
    "with open('mfr_xx1.pickle', 'wb') as f:\n",
    "    pickle.dump(mfr_xx, f)\n"
   ]
  },
  {
   "cell_type": "code",
   "execution_count": 23,
   "metadata": {},
   "outputs": [
    {
     "name": "stdout",
     "output_type": "stream",
     "text": [
      "0.5339412592335394\n"
     ]
    }
   ],
   "source": [
    "#開く\n",
    "with open('mfr_xx1.pickle', 'rb') as f:\n",
    "    mfr_xx1 = pickle.load(f)\n",
    "\n",
    "#再度fit\n",
    "mfr_xx1.partial_fit(X_train_scl[5000:10000,:], y_train[5000:10000].as_matrix().ravel())\n",
    "print(r2_score(y_test.as_matrix().ravel(), mfr_xx1.predict(X_test_scl)))\n",
    "\n",
    "#再度保存\n",
    "import pickle\n",
    "with open('mfr_xx2.pickle', 'wb') as f:\n",
    "    pickle.dump(mfr_xx1, f)"
   ]
  },
  {
   "cell_type": "code",
   "execution_count": 24,
   "metadata": {},
   "outputs": [
    {
     "name": "stdout",
     "output_type": "stream",
     "text": [
      "0.5662198014286459\n"
     ]
    }
   ],
   "source": [
    "#再度読み込み\n",
    "with open('mfr_xx2.pickle', 'rb') as f:\n",
    "    mfr_xx2 = pickle.load(f)\n",
    "#再度fit\n",
    "mfr_xx2.partial_fit(X_train_scl[10000:15000,:], y_train[10000:15000].as_matrix().ravel())\n",
    "print(r2_score(y_test.as_matrix().ravel(), mfr_xx2.predict(X_test_scl)))\n",
    "\n",
    "#再度保存\n",
    "import pickle\n",
    "with open('mfr_xx3.pickle', 'wb') as f:\n",
    "    pickle.dump(mfr_xx2, f)\n"
   ]
  },
  {
   "cell_type": "code",
   "execution_count": 25,
   "metadata": {},
   "outputs": [
    {
     "name": "stdout",
     "output_type": "stream",
     "text": [
      "0.6337515588366657\n"
     ]
    }
   ],
   "source": [
    "#再度読み込み\n",
    "with open('mfr_xx3.pickle', 'rb') as f:\n",
    "    mfr_xx3 = pickle.load(f)\n",
    "#再度fit\n",
    "mfr_xx3.partial_fit(X_train_scl[15000:,:], y_train[15000:].as_matrix().ravel())\n",
    "print(r2_score(y_test.as_matrix().ravel(), mfr_xx3.predict(X_test_scl)))\n",
    "\n",
    "#再度保存\n",
    "import pickle\n",
    "with open('mfr_xx4.pickle', 'wb') as f:\n",
    "    pickle.dump(mfr_xx3, f)\n"
   ]
  },
  {
   "cell_type": "code",
   "execution_count": 26,
   "metadata": {},
   "outputs": [
    {
     "name": "stdout",
     "output_type": "stream",
     "text": [
      "0.6337515588366657\n"
     ]
    }
   ],
   "source": [
    "#再度読み込み\n",
    "with open('mfr_xx4.pickle', 'rb') as f:\n",
    "    mfr_xx4 = pickle.load(f)\n",
    "#最後にpredict\n",
    "print(r2_score(y_test.as_matrix().ravel(), mfr_xx4.predict(X_test_scl)))\n",
    "\n"
   ]
  }
 ],
 "metadata": {
  "kernelspec": {
   "display_name": "Python 3",
   "language": "python",
   "name": "python3"
  },
  "language_info": {
   "codemirror_mode": {
    "name": "ipython",
    "version": 3
   },
   "file_extension": ".py",
   "mimetype": "text/x-python",
   "name": "python",
   "nbconvert_exporter": "python",
   "pygments_lexer": "ipython3",
   "version": "3.6.4"
  }
 },
 "nbformat": 4,
 "nbformat_minor": 2
}
